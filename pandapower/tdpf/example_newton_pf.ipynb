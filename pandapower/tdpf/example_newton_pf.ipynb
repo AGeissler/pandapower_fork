{
 "cells": [
  {
   "cell_type": "code",
   "execution_count": 1,
   "metadata": {},
   "outputs": [],
   "source": [
    "import pandapower.plotting\n",
    "from pandapower.tdpf.test_system import *"
   ]
  },
  {
   "cell_type": "code",
   "execution_count": 2,
   "metadata": {},
   "outputs": [
    {
     "name": "stderr",
     "output_type": "stream",
     "text": [
      "hp.pandapower.run - INFO: parameters ['tdpf'] are not in the list of standard options\n"
     ]
    },
    {
     "data": {
      "text/plain": [
       "This pandapower network includes the following parameter tables:\n",
       "   - bus (5 elements)\n",
       "   - load (3 elements)\n",
       "   - sgen (2 elements)\n",
       "   - gen (2 elements)\n",
       "   - ext_grid (1 element)\n",
       "   - line (6 elements)"
      ]
     },
     "execution_count": 2,
     "metadata": {},
     "output_type": "execute_result"
    }
   ],
   "source": [
    "net = test_grid()\n",
    "pp.set_user_pf_options(net, tdpf=True)\n",
    "net"
   ]
  },
  {
   "cell_type": "code",
   "execution_count": 3,
   "metadata": {},
   "outputs": [
    {
     "name": "stderr",
     "output_type": "stream",
     "text": [
      "hp.pandapower.plotting.simple_plot - WARNING: No or insufficient geodata available --> Creating artificial coordinates. This may take some time\n"
     ]
    },
    {
     "data": {
      "image/png": "[encoded data removed]",
      "text/plain": [
       "<Figure size 720x576 with 1 Axes>"
      ]
     },
     "metadata": {},
     "output_type": "display_data"
    },
    {
     "data": {
      "text/plain": [
       "<AxesSubplot:>"
      ]
     },
     "execution_count": 3,
     "metadata": {},
     "output_type": "execute_result"
    }
   ],
   "source": [
    "pp.plotting.simple_plot(net)"
   ]
  },
  {
   "cell_type": "code",
   "execution_count": 4,
   "metadata": {},
   "outputs": [
    {
     "name": "stderr",
     "output_type": "stream",
     "text": [
      "C:\\ProgramData\\Miniconda3\\lib\\site-packages\\scipy\\sparse\\linalg\\dsolve\\linsolve.py:144: SparseEfficiencyWarning: spsolve requires A be CSC or CSR matrix format\n",
      "  warn('spsolve requires A be CSC or CSR matrix format',\n"
     ]
    },
    {
     "name": "stdout",
     "output_type": "stream",
     "text": [
      "[55.42011997 62.90807587 50.54420741 50.86529583 55.94211106 51.07320654]\n"
     ]
    }
   ],
   "source": [
    "pp.runpp(net, max_iteration=30)"
   ]
  },
  {
   "cell_type": "code",
   "execution_count": 5,
   "metadata": {},
   "outputs": [
    {
     "data": {
      "text/html": [
       "<div>\n",
       "<style scoped>\n",
       "    .dataframe tbody tr th:only-of-type {\n",
       "        vertical-align: middle;\n",
       "    }\n",
       "\n",
       "    .dataframe tbody tr th {\n",
       "        vertical-align: top;\n",
       "    }\n",
       "\n",
       "    .dataframe thead th {\n",
       "        text-align: right;\n",
       "    }\n",
       "</style>\n",
       "<table border=\"1\" class=\"dataframe\">\n",
       "  <thead>\n",
       "    <tr style=\"text-align: right;\">\n",
       "      <th></th>\n",
       "      <th>p_from_mw</th>\n",
       "      <th>q_from_mvar</th>\n",
       "      <th>p_to_mw</th>\n",
       "      <th>q_to_mvar</th>\n",
       "      <th>pl_mw</th>\n",
       "      <th>ql_mvar</th>\n",
       "      <th>i_from_ka</th>\n",
       "      <th>i_to_ka</th>\n",
       "      <th>i_ka</th>\n",
       "      <th>vm_from_pu</th>\n",
       "      <th>va_from_degree</th>\n",
       "      <th>vm_to_pu</th>\n",
       "      <th>va_to_degree</th>\n",
       "      <th>loading_percent</th>\n",
       "    </tr>\n",
       "  </thead>\n",
       "  <tbody>\n",
       "    <tr>\n",
       "      <th>0</th>\n",
       "      <td>353.694376</td>\n",
       "      <td>5.059531</td>\n",
       "      <td>-352.740993</td>\n",
       "      <td>-1.606128</td>\n",
       "      <td>0.953383</td>\n",
       "      <td>3.453403</td>\n",
       "      <td>0.884097</td>\n",
       "      <td>0.884124</td>\n",
       "      <td>0.884124</td>\n",
       "      <td>1.050000</td>\n",
       "      <td>0.000000</td>\n",
       "      <td>1.047041</td>\n",
       "      <td>-0.745499</td>\n",
       "      <td>92.096285</td>\n",
       "    </tr>\n",
       "    <tr>\n",
       "      <th>1</th>\n",
       "      <td>506.391239</td>\n",
       "      <td>51.517745</td>\n",
       "      <td>-504.416793</td>\n",
       "      <td>-43.128880</td>\n",
       "      <td>1.974446</td>\n",
       "      <td>8.388866</td>\n",
       "      <td>1.272183</td>\n",
       "      <td>1.272451</td>\n",
       "      <td>1.272451</td>\n",
       "      <td>1.050000</td>\n",
       "      <td>0.000000</td>\n",
       "      <td>1.044111</td>\n",
       "      <td>-1.051042</td>\n",
       "      <td>132.546996</td>\n",
       "    </tr>\n",
       "    <tr>\n",
       "      <th>2</th>\n",
       "      <td>-203.466710</td>\n",
       "      <td>-53.512503</td>\n",
       "      <td>203.736921</td>\n",
       "      <td>53.898962</td>\n",
       "      <td>0.270210</td>\n",
       "      <td>0.386459</td>\n",
       "      <td>0.527315</td>\n",
       "      <td>0.526728</td>\n",
       "      <td>0.527315</td>\n",
       "      <td>1.047041</td>\n",
       "      <td>-0.745499</td>\n",
       "      <td>1.050000</td>\n",
       "      <td>-0.420835</td>\n",
       "      <td>54.928611</td>\n",
       "    </tr>\n",
       "    <tr>\n",
       "      <th>3</th>\n",
       "      <td>209.985993</td>\n",
       "      <td>-195.876738</td>\n",
       "      <td>-209.670505</td>\n",
       "      <td>196.824743</td>\n",
       "      <td>0.315487</td>\n",
       "      <td>0.948005</td>\n",
       "      <td>0.719746</td>\n",
       "      <td>0.718761</td>\n",
       "      <td>0.719746</td>\n",
       "      <td>1.047041</td>\n",
       "      <td>-0.745499</td>\n",
       "      <td>1.050000</td>\n",
       "      <td>-1.010336</td>\n",
       "      <td>74.973557</td>\n",
       "    </tr>\n",
       "    <tr>\n",
       "      <th>4</th>\n",
       "      <td>395.600411</td>\n",
       "      <td>110.737398</td>\n",
       "      <td>-394.574204</td>\n",
       "      <td>-106.696529</td>\n",
       "      <td>1.026207</td>\n",
       "      <td>4.040869</td>\n",
       "      <td>1.026751</td>\n",
       "      <td>1.027361</td>\n",
       "      <td>1.027361</td>\n",
       "      <td>1.050000</td>\n",
       "      <td>-0.420835</td>\n",
       "      <td>1.044111</td>\n",
       "      <td>-1.051042</td>\n",
       "      <td>107.016738</td>\n",
       "    </tr>\n",
       "    <tr>\n",
       "      <th>5</th>\n",
       "      <td>-96.969413</td>\n",
       "      <td>-283.251049</td>\n",
       "      <td>97.314116</td>\n",
       "      <td>284.341785</td>\n",
       "      <td>0.344703</td>\n",
       "      <td>1.090736</td>\n",
       "      <td>0.752501</td>\n",
       "      <td>0.751139</td>\n",
       "      <td>0.752501</td>\n",
       "      <td>1.044111</td>\n",
       "      <td>-1.051042</td>\n",
       "      <td>1.050000</td>\n",
       "      <td>-1.010336</td>\n",
       "      <td>78.385470</td>\n",
       "    </tr>\n",
       "  </tbody>\n",
       "</table>\n",
       "</div>"
      ],
      "text/plain": [
       "    p_from_mw  q_from_mvar     p_to_mw   q_to_mvar     pl_mw   ql_mvar  \\\n",
       "0  353.694376     5.059531 -352.740993   -1.606128  0.953383  3.453403   \n",
       "1  506.391239    51.517745 -504.416793  -43.128880  1.974446  8.388866   \n",
       "2 -203.466710   -53.512503  203.736921   53.898962  0.270210  0.386459   \n",
       "3  209.985993  -195.876738 -209.670505  196.824743  0.315487  0.948005   \n",
       "4  395.600411   110.737398 -394.574204 -106.696529  1.026207  4.040869   \n",
       "5  -96.969413  -283.251049   97.314116  284.341785  0.344703  1.090736   \n",
       "\n",
       "   i_from_ka   i_to_ka      i_ka  vm_from_pu  va_from_degree  vm_to_pu  \\\n",
       "0   0.884097  0.884124  0.884124    1.050000        0.000000  1.047041   \n",
       "1   1.272183  1.272451  1.272451    1.050000        0.000000  1.044111   \n",
       "2   0.527315  0.526728  0.527315    1.047041       -0.745499  1.050000   \n",
       "3   0.719746  0.718761  0.719746    1.047041       -0.745499  1.050000   \n",
       "4   1.026751  1.027361  1.027361    1.050000       -0.420835  1.044111   \n",
       "5   0.752501  0.751139  0.752501    1.044111       -1.051042  1.050000   \n",
       "\n",
       "   va_to_degree  loading_percent  \n",
       "0     -0.745499        92.096285  \n",
       "1     -1.051042       132.546996  \n",
       "2     -0.420835        54.928611  \n",
       "3     -1.010336        74.973557  \n",
       "4     -1.051042       107.016738  \n",
       "5     -1.010336        78.385470  "
      ]
     },
     "execution_count": 5,
     "metadata": {},
     "output_type": "execute_result"
    }
   ],
   "source": [
    "net.res_line"
   ]
  },
  {
   "cell_type": "code",
   "execution_count": null,
   "metadata": {},
   "outputs": [],
   "source": []
  }
 ],
 "metadata": {
  "kernelspec": {
   "display_name": "Python 3",
   "language": "python",
   "name": "python3"
  },
  "language_info": {
   "codemirror_mode": {
    "name": "ipython",
    "version": 3
   },
   "file_extension": ".py",
   "mimetype": "text/x-python",
   "name": "python",
   "nbconvert_exporter": "python",
   "pygments_lexer": "ipython3",
   "version": "3.8.6"
  }
 },
 "nbformat": 4,
 "nbformat_minor": 4
}
