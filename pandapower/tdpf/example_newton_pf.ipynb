{
 "cells": [
  {
   "cell_type": "code",
   "execution_count": 1,
   "metadata": {},
   "outputs": [],
   "source": [
    "import matplotlib.pyplot as plt\n",
    "import pandapower.plotting\n",
    "from pandapower.tdpf.test_system import *\n",
    "from pandapower.tdpf.create_jacobian_tdpf import *"
   ]
  },
  {
   "cell_type": "code",
   "execution_count": 2,
   "metadata": {},
   "outputs": [],
   "source": [
    "net = test_grid(load_scaling=0.25, sgen_scaling=0.5, with_gen=True, distributed_slack=False)"
   ]
  },
  {
   "cell_type": "code",
   "execution_count": 3,
   "metadata": {},
   "outputs": [
    {
     "data": {
      "image/png": "[encoded data removed]",
      "text/plain": [
       "<Figure size 720x576 with 1 Axes>"
      ]
     },
     "metadata": {},
     "output_type": "display_data"
    },
    {
     "data": {
      "text/plain": [
       "<AxesSubplot:>"
      ]
     },
     "execution_count": 3,
     "metadata": {},
     "output_type": "execute_result"
    }
   ],
   "source": [
    "pp.plotting.simple_plot(net, plot_loads=True, plot_sgens=True, plot_gens=True, load_size=3, sgen_size=3, gen_size=3)"
   ]
  },
  {
   "cell_type": "code",
   "execution_count": 4,
   "metadata": {},
   "outputs": [
    {
     "data": {
      "text/html": [
       "<div>\n",
       "<style scoped>\n",
       "    .dataframe tbody tr th:only-of-type {\n",
       "        vertical-align: middle;\n",
       "    }\n",
       "\n",
       "    .dataframe tbody tr th {\n",
       "        vertical-align: top;\n",
       "    }\n",
       "\n",
       "    .dataframe thead th {\n",
       "        text-align: right;\n",
       "    }\n",
       "</style>\n",
       "<table border=\"1\" class=\"dataframe\">\n",
       "  <thead>\n",
       "    <tr style=\"text-align: right;\">\n",
       "      <th></th>\n",
       "      <th>p_from_mw</th>\n",
       "      <th>q_from_mvar</th>\n",
       "      <th>p_to_mw</th>\n",
       "      <th>q_to_mvar</th>\n",
       "      <th>pl_mw</th>\n",
       "      <th>ql_mvar</th>\n",
       "      <th>i_from_ka</th>\n",
       "      <th>i_to_ka</th>\n",
       "      <th>i_ka</th>\n",
       "      <th>vm_from_pu</th>\n",
       "      <th>va_from_degree</th>\n",
       "      <th>vm_to_pu</th>\n",
       "      <th>va_to_degree</th>\n",
       "      <th>loading_percent</th>\n",
       "    </tr>\n",
       "  </thead>\n",
       "  <tbody>\n",
       "    <tr>\n",
       "      <th>0</th>\n",
       "      <td>2.520700</td>\n",
       "      <td>56.677782</td>\n",
       "      <td>-2.264601</td>\n",
       "      <td>-55.071738</td>\n",
       "      <td>0.256099</td>\n",
       "      <td>1.606044</td>\n",
       "      <td>0.241507</td>\n",
       "      <td>0.241507</td>\n",
       "      <td>0.241507</td>\n",
       "      <td>1.027490</td>\n",
       "      <td>2.981261</td>\n",
       "      <td>0.998232</td>\n",
       "      <td>3.173039</td>\n",
       "      <td>25.156976</td>\n",
       "    </tr>\n",
       "    <tr>\n",
       "      <th>1</th>\n",
       "      <td>97.479300</td>\n",
       "      <td>-56.677782</td>\n",
       "      <td>-96.467660</td>\n",
       "      <td>63.021966</td>\n",
       "      <td>1.011640</td>\n",
       "      <td>6.344184</td>\n",
       "      <td>0.479997</td>\n",
       "      <td>0.479997</td>\n",
       "      <td>0.479997</td>\n",
       "      <td>1.027490</td>\n",
       "      <td>2.981261</td>\n",
       "      <td>1.050000</td>\n",
       "      <td>0.000000</td>\n",
       "      <td>49.999724</td>\n",
       "    </tr>\n",
       "    <tr>\n",
       "      <th>2</th>\n",
       "      <td>-88.710098</td>\n",
       "      <td>11.671945</td>\n",
       "      <td>89.248383</td>\n",
       "      <td>-8.296260</td>\n",
       "      <td>0.538285</td>\n",
       "      <td>3.375684</td>\n",
       "      <td>0.392043</td>\n",
       "      <td>0.392043</td>\n",
       "      <td>0.392043</td>\n",
       "      <td>0.998232</td>\n",
       "      <td>3.173039</td>\n",
       "      <td>1.000000</td>\n",
       "      <td>5.357838</td>\n",
       "      <td>40.837850</td>\n",
       "    </tr>\n",
       "    <tr>\n",
       "      <th>3</th>\n",
       "      <td>65.974699</td>\n",
       "      <td>-16.600207</td>\n",
       "      <td>-65.779624</td>\n",
       "      <td>17.823557</td>\n",
       "      <td>0.195075</td>\n",
       "      <td>1.223350</td>\n",
       "      <td>0.298086</td>\n",
       "      <td>0.298086</td>\n",
       "      <td>0.298086</td>\n",
       "      <td>0.998232</td>\n",
       "      <td>3.173039</td>\n",
       "      <td>1.000000</td>\n",
       "      <td>2.135568</td>\n",
       "      <td>31.050611</td>\n",
       "    </tr>\n",
       "    <tr>\n",
       "      <th>4</th>\n",
       "      <td>210.751617</td>\n",
       "      <td>-141.687706</td>\n",
       "      <td>-206.430677</td>\n",
       "      <td>168.785130</td>\n",
       "      <td>4.320941</td>\n",
       "      <td>27.097424</td>\n",
       "      <td>1.110752</td>\n",
       "      <td>1.110752</td>\n",
       "      <td>1.110752</td>\n",
       "      <td>1.000000</td>\n",
       "      <td>5.357838</td>\n",
       "      <td>1.050000</td>\n",
       "      <td>0.000000</td>\n",
       "      <td>115.703355</td>\n",
       "    </tr>\n",
       "    <tr>\n",
       "      <th>5</th>\n",
       "      <td>-113.442497</td>\n",
       "      <td>220.182604</td>\n",
       "      <td>115.779624</td>\n",
       "      <td>-205.526046</td>\n",
       "      <td>2.337127</td>\n",
       "      <td>14.656558</td>\n",
       "      <td>1.031768</td>\n",
       "      <td>1.031768</td>\n",
       "      <td>1.031768</td>\n",
       "      <td>1.050000</td>\n",
       "      <td>0.000000</td>\n",
       "      <td>1.000000</td>\n",
       "      <td>2.135568</td>\n",
       "      <td>107.475804</td>\n",
       "    </tr>\n",
       "  </tbody>\n",
       "</table>\n",
       "</div>"
      ],
      "text/plain": [
       "    p_from_mw  q_from_mvar     p_to_mw   q_to_mvar     pl_mw    ql_mvar  \\\n",
       "0    2.520700    56.677782   -2.264601  -55.071738  0.256099   1.606044   \n",
       "1   97.479300   -56.677782  -96.467660   63.021966  1.011640   6.344184   \n",
       "2  -88.710098    11.671945   89.248383   -8.296260  0.538285   3.375684   \n",
       "3   65.974699   -16.600207  -65.779624   17.823557  0.195075   1.223350   \n",
       "4  210.751617  -141.687706 -206.430677  168.785130  4.320941  27.097424   \n",
       "5 -113.442497   220.182604  115.779624 -205.526046  2.337127  14.656558   \n",
       "\n",
       "   i_from_ka   i_to_ka      i_ka  vm_from_pu  va_from_degree  vm_to_pu  \\\n",
       "0   0.241507  0.241507  0.241507    1.027490        2.981261  0.998232   \n",
       "1   0.479997  0.479997  0.479997    1.027490        2.981261  1.050000   \n",
       "2   0.392043  0.392043  0.392043    0.998232        3.173039  1.000000   \n",
       "3   0.298086  0.298086  0.298086    0.998232        3.173039  1.000000   \n",
       "4   1.110752  1.110752  1.110752    1.000000        5.357838  1.050000   \n",
       "5   1.031768  1.031768  1.031768    1.050000        0.000000  1.000000   \n",
       "\n",
       "   va_to_degree  loading_percent  \n",
       "0      3.173039        25.156976  \n",
       "1      0.000000        49.999724  \n",
       "2      5.357838        40.837850  \n",
       "3      2.135568        31.050611  \n",
       "4      0.000000       115.703355  \n",
       "5      2.135568       107.475804  "
      ]
     },
     "execution_count": 4,
     "metadata": {},
     "output_type": "execute_result"
    }
   ],
   "source": [
    "pp.runpp(net, init=\"flat\", lightsim2grid=False)\n",
    "net.res_line"
   ]
  },
  {
   "cell_type": "code",
   "execution_count": 5,
   "metadata": {},
   "outputs": [
    {
     "data": {
      "text/plain": [
       "dict_keys(['Ybus', 'Yf', 'Yt', 'branch_is', 'gen_is', 'DLF', 'buses_ord_bfs_nets', 'ref_gens', 'J', 'Vm_it', 'Va_it', 'bus', 'gen', 'branch', 'baseMVA', 'V', 'pv', 'pq', 'ref', 'Sbus', 'T'])"
      ]
     },
     "execution_count": 5,
     "metadata": {},
     "output_type": "execute_result"
    }
   ],
   "source": [
    "net._ppc[\"internal\"].keys()"
   ]
  },
  {
   "cell_type": "code",
   "execution_count": 6,
   "metadata": {},
   "outputs": [
    {
     "data": {
      "text/html": [
       "<div>\n",
       "<style scoped>\n",
       "    .dataframe tbody tr th:only-of-type {\n",
       "        vertical-align: middle;\n",
       "    }\n",
       "\n",
       "    .dataframe tbody tr th {\n",
       "        vertical-align: top;\n",
       "    }\n",
       "\n",
       "    .dataframe thead th {\n",
       "        text-align: right;\n",
       "    }\n",
       "</style>\n",
       "<table border=\"1\" class=\"dataframe\">\n",
       "  <thead>\n",
       "    <tr style=\"text-align: right;\">\n",
       "      <th></th>\n",
       "      <th>vm_pu</th>\n",
       "      <th>va_degree</th>\n",
       "      <th>p_mw</th>\n",
       "      <th>q_mvar</th>\n",
       "    </tr>\n",
       "  </thead>\n",
       "  <tbody>\n",
       "    <tr>\n",
       "      <th>0</th>\n",
       "      <td>1.027490</td>\n",
       "      <td>2.981261</td>\n",
       "      <td>-100.000000</td>\n",
       "      <td>-0.000000</td>\n",
       "    </tr>\n",
       "    <tr>\n",
       "      <th>1</th>\n",
       "      <td>0.998232</td>\n",
       "      <td>3.173039</td>\n",
       "      <td>25.000000</td>\n",
       "      <td>60.000000</td>\n",
       "    </tr>\n",
       "    <tr>\n",
       "      <th>2</th>\n",
       "      <td>1.000000</td>\n",
       "      <td>5.357838</td>\n",
       "      <td>-300.000000</td>\n",
       "      <td>149.983966</td>\n",
       "    </tr>\n",
       "    <tr>\n",
       "      <th>3</th>\n",
       "      <td>1.050000</td>\n",
       "      <td>0.000000</td>\n",
       "      <td>416.340834</td>\n",
       "      <td>-451.989700</td>\n",
       "    </tr>\n",
       "    <tr>\n",
       "      <th>4</th>\n",
       "      <td>1.000000</td>\n",
       "      <td>2.135568</td>\n",
       "      <td>-50.000000</td>\n",
       "      <td>187.702489</td>\n",
       "    </tr>\n",
       "  </tbody>\n",
       "</table>\n",
       "</div>"
      ],
      "text/plain": [
       "      vm_pu  va_degree        p_mw      q_mvar\n",
       "0  1.027490   2.981261 -100.000000   -0.000000\n",
       "1  0.998232   3.173039   25.000000   60.000000\n",
       "2  1.000000   5.357838 -300.000000  149.983966\n",
       "3  1.050000   0.000000  416.340834 -451.989700\n",
       "4  1.000000   2.135568  -50.000000  187.702489"
      ]
     },
     "execution_count": 6,
     "metadata": {},
     "output_type": "execute_result"
    }
   ],
   "source": [
    "net.res_bus"
   ]
  },
  {
   "cell_type": "code",
   "execution_count": 7,
   "metadata": {},
   "outputs": [
    {
     "data": {
      "text/plain": [
       "array([46.05926996, 53.12154882, 49.93833344, 47.29144877, 99.9890416 ,\n",
       "       91.40392366])"
      ]
     },
     "execution_count": 7,
     "metadata": {},
     "output_type": "execute_result"
    }
   ],
   "source": [
    "t_amb_pu = 35\n",
    "alpha_pu = 4e-3\n",
    "r_ref = net.line.r_ohm_per_km.values / 1e3\n",
    "a0, a1, a2, tau = calc_a0_a1_a2_tau(t_amb_pu, 80, 20, r_ref, 30.6e-3,\n",
    "                                    1490, 0.6, 45, 900, alpha_pu, 0.5, 0.5)\n",
    "T=calc_T_ngoko(np.square(net.res_line.i_ka.values * 1e3), a0, a1, a2, None, None, None)\n",
    "T"
   ]
  },
  {
   "cell_type": "code",
   "execution_count": 8,
   "metadata": {},
   "outputs": [
    {
     "data": {
      "text/plain": [
       "array([46.05926996, 53.12154882, 49.93833344, 47.29144877, 99.9890416 ,\n",
       "       91.40392366])"
      ]
     },
     "execution_count": 8,
     "metadata": {},
     "output_type": "execute_result"
    }
   ],
   "source": [
    "branch = net._ppc[\"branch\"]\n",
    "tdpf_lines = np.ones(len(branch)).astype(bool)\n",
    "r = branch[tdpf_lines, BR_R].real\n",
    "#r = r * (1 + alpha_pu * (T - 20))\n",
    "x = branch[tdpf_lines, BR_X].real\n",
    "g, b = calc_g_b(r, x)\n",
    "Vm = abs(net._ppc[\"internal\"][\"V\"])\n",
    "Va = np.angle(net._ppc[\"internal\"][\"V\"])\n",
    "i_square_pu, p_loss_pu = calc_i_square_p_loss(branch, tdpf_lines, g, b, Vm, Va)\n",
    "#i_square_pu = np.square(net.res_line.i_ka.values*1e3)\n",
    "r_theta = calc_r_theta(t_amb_pu, a0, a1, a2, np.square(net.res_line.i_ka.values*1e3), p_loss_pu)\n",
    "calc_T_frank(p_loss_pu, t_amb_pu, r_theta, None, None, None)"
   ]
  },
  {
   "cell_type": "code",
   "execution_count": 9,
   "metadata": {},
   "outputs": [
    {
     "data": {
      "text/plain": [
       "array([0.00256099, 0.0101164 , 0.00538285, 0.00195075, 0.04320941,\n",
       "       0.02337127])"
      ]
     },
     "execution_count": 9,
     "metadata": {},
     "output_type": "execute_result"
    }
   ],
   "source": [
    "p_loss_pu"
   ]
  },
  {
   "cell_type": "code",
   "execution_count": 10,
   "metadata": {},
   "outputs": [
    {
     "data": {
      "text/plain": [
       "array([0.24150697, 0.47999735, 0.39204336, 0.29808586, 1.11075221,\n",
       "       1.03176772])"
      ]
     },
     "execution_count": 10,
     "metadata": {},
     "output_type": "execute_result"
    }
   ],
   "source": [
    "i_base_a = net.sn_mva / (132 * np.sqrt(3)) * 1e3\n",
    "1e-3 * i_base_a * np.sqrt(i_square_pu)"
   ]
  },
  {
   "cell_type": "code",
   "execution_count": 11,
   "metadata": {},
   "outputs": [
    {
     "data": {
      "text/plain": [
       "array([0.5521591 , 1.09742133, 0.89633151, 0.68151582, 2.53952063,\n",
       "       2.35893783])"
      ]
     },
     "execution_count": 11,
     "metadata": {},
     "output_type": "execute_result"
    }
   ],
   "source": [
    "np.sqrt(i_square_pu)"
   ]
  },
  {
   "cell_type": "code",
   "execution_count": 12,
   "metadata": {},
   "outputs": [
    {
     "data": {
      "text/html": [
       "<div>\n",
       "<style scoped>\n",
       "    .dataframe tbody tr th:only-of-type {\n",
       "        vertical-align: middle;\n",
       "    }\n",
       "\n",
       "    .dataframe tbody tr th {\n",
       "        vertical-align: top;\n",
       "    }\n",
       "\n",
       "    .dataframe thead th {\n",
       "        text-align: right;\n",
       "    }\n",
       "</style>\n",
       "<table border=\"1\" class=\"dataframe\">\n",
       "  <thead>\n",
       "    <tr style=\"text-align: right;\">\n",
       "      <th></th>\n",
       "      <th>i_ka</th>\n",
       "      <th>pl_mw</th>\n",
       "    </tr>\n",
       "  </thead>\n",
       "  <tbody>\n",
       "    <tr>\n",
       "      <th>0</th>\n",
       "      <td>0.241507</td>\n",
       "      <td>0.256099</td>\n",
       "    </tr>\n",
       "    <tr>\n",
       "      <th>1</th>\n",
       "      <td>0.479997</td>\n",
       "      <td>1.011640</td>\n",
       "    </tr>\n",
       "    <tr>\n",
       "      <th>2</th>\n",
       "      <td>0.392043</td>\n",
       "      <td>0.538285</td>\n",
       "    </tr>\n",
       "    <tr>\n",
       "      <th>3</th>\n",
       "      <td>0.298086</td>\n",
       "      <td>0.195075</td>\n",
       "    </tr>\n",
       "    <tr>\n",
       "      <th>4</th>\n",
       "      <td>1.110752</td>\n",
       "      <td>4.320941</td>\n",
       "    </tr>\n",
       "    <tr>\n",
       "      <th>5</th>\n",
       "      <td>1.031768</td>\n",
       "      <td>2.337127</td>\n",
       "    </tr>\n",
       "  </tbody>\n",
       "</table>\n",
       "</div>"
      ],
      "text/plain": [
       "       i_ka     pl_mw\n",
       "0  0.241507  0.256099\n",
       "1  0.479997  1.011640\n",
       "2  0.392043  0.538285\n",
       "3  0.298086  0.195075\n",
       "4  1.110752  4.320941\n",
       "5  1.031768  2.337127"
      ]
     },
     "execution_count": 12,
     "metadata": {},
     "output_type": "execute_result"
    }
   ],
   "source": [
    "net.res_line[['i_ka', 'pl_mw']]"
   ]
  },
  {
   "cell_type": "code",
   "execution_count": 13,
   "metadata": {},
   "outputs": [],
   "source": [
    "pp.runpp(net, tdpf=True, max_iteration=30)"
   ]
  },
  {
   "cell_type": "code",
   "execution_count": 14,
   "metadata": {},
   "outputs": [
    {
     "data": {
      "text/html": [
       "<div>\n",
       "<style scoped>\n",
       "    .dataframe tbody tr th:only-of-type {\n",
       "        vertical-align: middle;\n",
       "    }\n",
       "\n",
       "    .dataframe tbody tr th {\n",
       "        vertical-align: top;\n",
       "    }\n",
       "\n",
       "    .dataframe thead th {\n",
       "        text-align: right;\n",
       "    }\n",
       "</style>\n",
       "<table border=\"1\" class=\"dataframe\">\n",
       "  <thead>\n",
       "    <tr style=\"text-align: right;\">\n",
       "      <th></th>\n",
       "      <th>p_from_mw</th>\n",
       "      <th>q_from_mvar</th>\n",
       "      <th>p_to_mw</th>\n",
       "      <th>q_to_mvar</th>\n",
       "      <th>pl_mw</th>\n",
       "      <th>ql_mvar</th>\n",
       "      <th>i_from_ka</th>\n",
       "      <th>i_to_ka</th>\n",
       "      <th>i_ka</th>\n",
       "      <th>vm_from_pu</th>\n",
       "      <th>va_from_degree</th>\n",
       "      <th>vm_to_pu</th>\n",
       "      <th>va_to_degree</th>\n",
       "      <th>loading_percent</th>\n",
       "      <th>r_ohm_per_km</th>\n",
       "      <th>temperature_degree_celsius</th>\n",
       "    </tr>\n",
       "  </thead>\n",
       "  <tbody>\n",
       "    <tr>\n",
       "      <th>0</th>\n",
       "      <td>1.145704</td>\n",
       "      <td>57.860539</td>\n",
       "      <td>-0.851651</td>\n",
       "      <td>-56.191113</td>\n",
       "      <td>0.294053</td>\n",
       "      <td>1.669426</td>\n",
       "      <td>0.246226</td>\n",
       "      <td>0.246226</td>\n",
       "      <td>0.246226</td>\n",
       "      <td>1.028013</td>\n",
       "      <td>3.058060</td>\n",
       "      <td>0.998271</td>\n",
       "      <td>3.324106</td>\n",
       "      <td>25.648576</td>\n",
       "      <td>0.065172</td>\n",
       "      <td>46.151857</td>\n",
       "    </tr>\n",
       "    <tr>\n",
       "      <th>1</th>\n",
       "      <td>98.854296</td>\n",
       "      <td>-57.860539</td>\n",
       "      <td>-97.672056</td>\n",
       "      <td>64.400365</td>\n",
       "      <td>1.182241</td>\n",
       "      <td>6.539826</td>\n",
       "      <td>0.487342</td>\n",
       "      <td>0.487342</td>\n",
       "      <td>0.487342</td>\n",
       "      <td>1.028013</td>\n",
       "      <td>3.058060</td>\n",
       "      <td>1.050000</td>\n",
       "      <td>0.000000</td>\n",
       "      <td>50.764815</td>\n",
       "      <td>0.066887</td>\n",
       "      <td>53.419294</td>\n",
       "    </tr>\n",
       "    <tr>\n",
       "      <th>2</th>\n",
       "      <td>-89.838066</td>\n",
       "      <td>13.737926</td>\n",
       "      <td>90.460324</td>\n",
       "      <td>-10.255459</td>\n",
       "      <td>0.622257</td>\n",
       "      <td>3.482468</td>\n",
       "      <td>0.398196</td>\n",
       "      <td>0.398196</td>\n",
       "      <td>0.398196</td>\n",
       "      <td>0.998271</td>\n",
       "      <td>3.324106</td>\n",
       "      <td>1.000000</td>\n",
       "      <td>5.550365</td>\n",
       "      <td>41.478734</td>\n",
       "      <td>0.066113</td>\n",
       "      <td>50.138432</td>\n",
       "    </tr>\n",
       "    <tr>\n",
       "      <th>3</th>\n",
       "      <td>65.689717</td>\n",
       "      <td>-17.546813</td>\n",
       "      <td>-65.473610</td>\n",
       "      <td>18.768694</td>\n",
       "      <td>0.216107</td>\n",
       "      <td>1.221881</td>\n",
       "      <td>0.297907</td>\n",
       "      <td>0.297907</td>\n",
       "      <td>0.297907</td>\n",
       "      <td>0.998271</td>\n",
       "      <td>3.324106</td>\n",
       "      <td>1.000000</td>\n",
       "      <td>2.284085</td>\n",
       "      <td>31.031951</td>\n",
       "      <td>0.065440</td>\n",
       "      <td>47.287124</td>\n",
       "    </tr>\n",
       "    <tr>\n",
       "      <th>4</th>\n",
       "      <td>209.539677</td>\n",
       "      <td>-151.708806</td>\n",
       "      <td>-203.578074</td>\n",
       "      <td>179.827572</td>\n",
       "      <td>5.961603</td>\n",
       "      <td>28.118767</td>\n",
       "      <td>1.131492</td>\n",
       "      <td>1.131492</td>\n",
       "      <td>1.131492</td>\n",
       "      <td>1.000000</td>\n",
       "      <td>5.550365</td>\n",
       "      <td>1.050000</td>\n",
       "      <td>0.000000</td>\n",
       "      <td>117.863704</td>\n",
       "      <td>0.078446</td>\n",
       "      <td>102.396571</td>\n",
       "    </tr>\n",
       "    <tr>\n",
       "      <th>5</th>\n",
       "      <td>-112.343080</td>\n",
       "      <td>225.658937</td>\n",
       "      <td>115.473610</td>\n",
       "      <td>-210.478384</td>\n",
       "      <td>3.130530</td>\n",
       "      <td>15.180553</td>\n",
       "      <td>1.050049</td>\n",
       "      <td>1.050049</td>\n",
       "      <td>1.050049</td>\n",
       "      <td>1.050000</td>\n",
       "      <td>0.000000</td>\n",
       "      <td>1.000000</td>\n",
       "      <td>2.284085</td>\n",
       "      <td>109.380148</td>\n",
       "      <td>0.076301</td>\n",
       "      <td>93.310661</td>\n",
       "    </tr>\n",
       "  </tbody>\n",
       "</table>\n",
       "</div>"
      ],
      "text/plain": [
       "    p_from_mw  q_from_mvar     p_to_mw   q_to_mvar     pl_mw    ql_mvar  \\\n",
       "0    1.145704    57.860539   -0.851651  -56.191113  0.294053   1.669426   \n",
       "1   98.854296   -57.860539  -97.672056   64.400365  1.182241   6.539826   \n",
       "2  -89.838066    13.737926   90.460324  -10.255459  0.622257   3.482468   \n",
       "3   65.689717   -17.546813  -65.473610   18.768694  0.216107   1.221881   \n",
       "4  209.539677  -151.708806 -203.578074  179.827572  5.961603  28.118767   \n",
       "5 -112.343080   225.658937  115.473610 -210.478384  3.130530  15.180553   \n",
       "\n",
       "   i_from_ka   i_to_ka      i_ka  vm_from_pu  va_from_degree  vm_to_pu  \\\n",
       "0   0.246226  0.246226  0.246226    1.028013        3.058060  0.998271   \n",
       "1   0.487342  0.487342  0.487342    1.028013        3.058060  1.050000   \n",
       "2   0.398196  0.398196  0.398196    0.998271        3.324106  1.000000   \n",
       "3   0.297907  0.297907  0.297907    0.998271        3.324106  1.000000   \n",
       "4   1.131492  1.131492  1.131492    1.000000        5.550365  1.050000   \n",
       "5   1.050049  1.050049  1.050049    1.050000        0.000000  1.000000   \n",
       "\n",
       "   va_to_degree  loading_percent  r_ohm_per_km  temperature_degree_celsius  \n",
       "0      3.324106        25.648576      0.065172                   46.151857  \n",
       "1      0.000000        50.764815      0.066887                   53.419294  \n",
       "2      5.550365        41.478734      0.066113                   50.138432  \n",
       "3      2.284085        31.031951      0.065440                   47.287124  \n",
       "4      0.000000       117.863704      0.078446                  102.396571  \n",
       "5      2.284085       109.380148      0.076301                   93.310661  "
      ]
     },
     "execution_count": 14,
     "metadata": {},
     "output_type": "execute_result"
    }
   ],
   "source": [
    "net.res_line"
   ]
  },
  {
   "cell_type": "code",
   "execution_count": 15,
   "metadata": {},
   "outputs": [
    {
     "data": {
      "text/plain": [
       "array([ 46.15185728,  53.41929414,  50.13843149,  47.28712425,\n",
       "       102.39657035,  93.31066069])"
      ]
     },
     "execution_count": 15,
     "metadata": {},
     "output_type": "execute_result"
    }
   ],
   "source": [
    "calc_T_ngoko(np.square(net.res_line.i_ka.values * 1e3), a0, a1, a2, None, None, None)"
   ]
  },
  {
   "cell_type": "code",
   "execution_count": 16,
   "metadata": {},
   "outputs": [
    {
     "data": {
      "text/plain": [
       "array([46.05926996, 53.12154882, 49.93833344, 47.29144877, 99.9890416 ,\n",
       "       91.40392366])"
      ]
     },
     "execution_count": 16,
     "metadata": {},
     "output_type": "execute_result"
    }
   ],
   "source": [
    "pp.runpp(net)\n",
    "calc_T_ngoko(np.square(net.res_line.i_ka.values * 1e3), a0, a1, a2, None, None, None)"
   ]
  },
  {
   "cell_type": "code",
   "execution_count": 17,
   "metadata": {},
   "outputs": [
    {
     "data": {
      "text/html": [
       "<div>\n",
       "<style scoped>\n",
       "    .dataframe tbody tr th:only-of-type {\n",
       "        vertical-align: middle;\n",
       "    }\n",
       "\n",
       "    .dataframe tbody tr th {\n",
       "        vertical-align: top;\n",
       "    }\n",
       "\n",
       "    .dataframe thead th {\n",
       "        text-align: right;\n",
       "    }\n",
       "</style>\n",
       "<table border=\"1\" class=\"dataframe\">\n",
       "  <thead>\n",
       "    <tr style=\"text-align: right;\">\n",
       "      <th></th>\n",
       "      <th>vm_pu</th>\n",
       "      <th>va_degree</th>\n",
       "      <th>p_mw</th>\n",
       "      <th>q_mvar</th>\n",
       "    </tr>\n",
       "  </thead>\n",
       "  <tbody>\n",
       "    <tr>\n",
       "      <th>0</th>\n",
       "      <td>1.027490</td>\n",
       "      <td>2.981261</td>\n",
       "      <td>-100.000000</td>\n",
       "      <td>-0.000000</td>\n",
       "    </tr>\n",
       "    <tr>\n",
       "      <th>1</th>\n",
       "      <td>0.998232</td>\n",
       "      <td>3.173039</td>\n",
       "      <td>25.000000</td>\n",
       "      <td>60.000000</td>\n",
       "    </tr>\n",
       "    <tr>\n",
       "      <th>2</th>\n",
       "      <td>1.000000</td>\n",
       "      <td>5.357838</td>\n",
       "      <td>-300.000000</td>\n",
       "      <td>149.983966</td>\n",
       "    </tr>\n",
       "    <tr>\n",
       "      <th>3</th>\n",
       "      <td>1.050000</td>\n",
       "      <td>0.000000</td>\n",
       "      <td>416.340834</td>\n",
       "      <td>-451.989700</td>\n",
       "    </tr>\n",
       "    <tr>\n",
       "      <th>4</th>\n",
       "      <td>1.000000</td>\n",
       "      <td>2.135568</td>\n",
       "      <td>-50.000000</td>\n",
       "      <td>187.702489</td>\n",
       "    </tr>\n",
       "  </tbody>\n",
       "</table>\n",
       "</div>"
      ],
      "text/plain": [
       "      vm_pu  va_degree        p_mw      q_mvar\n",
       "0  1.027490   2.981261 -100.000000   -0.000000\n",
       "1  0.998232   3.173039   25.000000   60.000000\n",
       "2  1.000000   5.357838 -300.000000  149.983966\n",
       "3  1.050000   0.000000  416.340834 -451.989700\n",
       "4  1.000000   2.135568  -50.000000  187.702489"
      ]
     },
     "execution_count": 17,
     "metadata": {},
     "output_type": "execute_result"
    }
   ],
   "source": [
    "net.res_bus"
   ]
  },
  {
   "cell_type": "code",
   "execution_count": 18,
   "metadata": {},
   "outputs": [],
   "source": [
    "net = test_grid(load_scaling=0.25, sgen_scaling=0.5, with_gen=True, distributed_slack=True)\n",
    "net.sn_mva=1000; pp.runpp(net, tdpf=True, max_iteration=30, tolerance_mva=1e-6)"
   ]
  },
  {
   "cell_type": "code",
   "execution_count": 19,
   "metadata": {},
   "outputs": [
    {
     "data": {
      "text/plain": [
       "array([46.09158876, 51.83971441, 46.60045403, 45.52498148, 81.1766181 ,\n",
       "       88.07531272])"
      ]
     },
     "execution_count": 19,
     "metadata": {},
     "output_type": "execute_result"
    }
   ],
   "source": [
    "calc_T_ngoko(np.square(net.res_line.i_ka.values * 1e3), a0, a1, a2, None, None, None)"
   ]
  },
  {
   "cell_type": "code",
   "execution_count": 20,
   "metadata": {},
   "outputs": [
    {
     "data": {
      "text/plain": [
       "array([46.04039821, 51.62883854, 46.52450032, 45.54916817, 79.69042504,\n",
       "       86.69404878])"
      ]
     },
     "execution_count": 20,
     "metadata": {},
     "output_type": "execute_result"
    }
   ],
   "source": [
    "pp.runpp(net)\n",
    "calc_T_ngoko(np.square(net.res_line.i_ka.values * 1e3), a0, a1, a2, None, None, None)"
   ]
  },
  {
   "cell_type": "code",
   "execution_count": 21,
   "metadata": {},
   "outputs": [
    {
     "data": {
      "text/plain": [
       "<matplotlib.colorbar.Colorbar at 0x1d9c9e65f90>"
      ]
     },
     "execution_count": 21,
     "metadata": {},
     "output_type": "execute_result"
    },
    {
     "data": {
      "image/png": "[encoded data removed]",
      "text/plain": [
       "<Figure size 432x288 with 2 Axes>"
      ]
     },
     "metadata": {
      "needs_background": "light"
     },
     "output_type": "display_data"
    }
   ],
   "source": [
    "net = test_grid(load_scaling=0.25, sgen_scaling=0.5, with_gen=True, distributed_slack=False)\n",
    "net.sn_mva = 1\n",
    "pp.runpp(net, tdpf=True, max_iteration=30)\n",
    "ax=plt.imshow(net._ppc[\"internal\"][\"J\"].toarray())\n",
    "plt.colorbar(ax)"
   ]
  },
  {
   "cell_type": "code",
   "execution_count": 22,
   "metadata": {},
   "outputs": [
    {
     "data": {
      "text/plain": [
       "<matplotlib.colorbar.Colorbar at 0x1d9c9f4e7a0>"
      ]
     },
     "execution_count": 22,
     "metadata": {},
     "output_type": "execute_result"
    },
    {
     "data": {
      "image/png": "[encoded data removed]",
      "text/plain": [
       "<Figure size 432x288 with 2 Axes>"
      ]
     },
     "metadata": {
      "needs_background": "light"
     },
     "output_type": "display_data"
    }
   ],
   "source": [
    "net.sn_mva = 100; pp.runpp(net, tdpf=True, max_iteration=30)\n",
    "ax=plt.imshow(net._ppc[\"internal\"][\"J\"].toarray())\n",
    "plt.colorbar(ax)"
   ]
  },
  {
   "cell_type": "code",
   "execution_count": 23,
   "metadata": {},
   "outputs": [
    {
     "data": {
      "text/plain": [
       "<matplotlib.colorbar.Colorbar at 0x1d9c9c73670>"
      ]
     },
     "execution_count": 23,
     "metadata": {},
     "output_type": "execute_result"
    },
    {
     "data": {
      "image/png": "[encoded data removed]",
      "text/plain": [
       "<Figure size 432x288 with 2 Axes>"
      ]
     },
     "metadata": {
      "needs_background": "light"
     },
     "output_type": "display_data"
    }
   ],
   "source": [
    "net.sn_mva = 1000; pp.runpp(net, tdpf=True, max_iteration=30)\n",
    "ax=plt.imshow(net._ppc[\"internal\"][\"J\"].toarray())\n",
    "plt.colorbar(ax)"
   ]
  },
  {
   "cell_type": "code",
   "execution_count": 24,
   "metadata": {},
   "outputs": [
    {
     "data": {
      "text/plain": [
       "<matplotlib.colorbar.Colorbar at 0x1d9c9bf5240>"
      ]
     },
     "execution_count": 24,
     "metadata": {},
     "output_type": "execute_result"
    },
    {
     "data": {
      "image/png": "[encoded data removed]",
      "text/plain": [
       "<Figure size 432x288 with 2 Axes>"
      ]
     },
     "metadata": {
      "needs_background": "light"
     },
     "output_type": "display_data"
    }
   ],
   "source": [
    "net.sn_mva = 10000; pp.runpp(net, tdpf=True, max_iteration=30)\n",
    "ax=plt.imshow(net._ppc[\"internal\"][\"J\"].toarray())\n",
    "plt.colorbar(ax)"
   ]
  },
  {
   "cell_type": "code",
   "execution_count": 25,
   "metadata": {},
   "outputs": [
    {
     "data": {
      "text/plain": [
       "<matplotlib.colorbar.Colorbar at 0x1d9c9c631f0>"
      ]
     },
     "execution_count": 25,
     "metadata": {},
     "output_type": "execute_result"
    },
    {
     "data": {
      "image/png": "[encoded data removed]",
      "text/plain": [
       "<Figure size 432x288 with 2 Axes>"
      ]
     },
     "metadata": {
      "needs_background": "light"
     },
     "output_type": "display_data"
    }
   ],
   "source": [
    "net = test_grid(load_scaling=0.25, sgen_scaling=0.5, with_gen=True, distributed_slack=True)\n",
    "net.sn_mva=1000; pp.runpp(net, tdpf=True, max_iteration=30, tolerance_mva=1e-6)\n",
    "ax=plt.imshow(net._ppc[\"internal\"][\"J\"].toarray())\n",
    "plt.colorbar(ax)"
   ]
  },
  {
   "cell_type": "code",
   "execution_count": 26,
   "metadata": {},
   "outputs": [
    {
     "data": {
      "text/plain": [
       "<matplotlib.colorbar.Colorbar at 0x1d9c813beb0>"
      ]
     },
     "execution_count": 26,
     "metadata": {},
     "output_type": "execute_result"
    },
    {
     "data": {
      "image/png": "[encoded data removed]",
      "text/plain": [
       "<Figure size 432x288 with 2 Axes>"
      ]
     },
     "metadata": {
      "needs_background": "light"
     },
     "output_type": "display_data"
    }
   ],
   "source": [
    "net = test_grid(load_scaling=0.25, sgen_scaling=0.5, with_gen=True, distributed_slack=True)\n",
    "net.sn_mva=10000; pp.runpp(net, tdpf=True, max_iteration=30)\n",
    "ax=plt.imshow(net._ppc[\"internal\"][\"J\"].toarray())\n",
    "plt.colorbar(ax)"
   ]
  },
  {
   "cell_type": "code",
   "execution_count": 27,
   "metadata": {},
   "outputs": [
    {
     "data": {
      "text/plain": [
       "<matplotlib.colorbar.Colorbar at 0x1d9c99cb550>"
      ]
     },
     "execution_count": 27,
     "metadata": {},
     "output_type": "execute_result"
    },
    {
     "data": {
      "image/png": "[encoded data removed]",
      "text/plain": [
       "<Figure size 432x288 with 2 Axes>"
      ]
     },
     "metadata": {
      "needs_background": "light"
     },
     "output_type": "display_data"
    }
   ],
   "source": [
    "net = test_grid(load_scaling=0.25, sgen_scaling=0.5, with_gen=True, distributed_slack=True)\n",
    "net.sn_mva=100000000; pp.runpp(net, tdpf=True, max_iteration=30)\n",
    "ax=plt.imshow(net._ppc[\"internal\"][\"J\"].toarray())\n",
    "plt.colorbar(ax)"
   ]
  }
 ],
 "metadata": {
  "kernelspec": {
   "display_name": "Python 3 (ipykernel)",
   "language": "python",
   "name": "python3"
  },
  "language_info": {
   "codemirror_mode": {
    "name": "ipython",
    "version": 3
   },
   "file_extension": ".py",
   "mimetype": "text/x-python",
   "name": "python",
   "nbconvert_exporter": "python",
   "pygments_lexer": "ipython3",
   "version": "3.10.4"
  }
 },
 "nbformat": 4,
 "nbformat_minor": 4
}
