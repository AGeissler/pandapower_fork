{
 "cells": [
  {
   "cell_type": "code",
   "execution_count": 1,
   "id": "c543c7e3",
   "metadata": {},
   "outputs": [],
   "source": [
    "import numpy as np\n",
    "import pandas as pd\n",
    "import pandapower as pp\n",
    "import pandapower.networks\n",
    "from pandapower.tdpf.create_jacobian_tdpf import *\n",
    "\n",
    "pd.set_option(\"display.width\", 1000)\n",
    "pd.set_option(\"display.max_columns\", 1000)"
   ]
  },
  {
   "cell_type": "code",
   "execution_count": 2,
   "id": "0f791578",
   "metadata": {},
   "outputs": [],
   "source": [
    "net = pp.networks.case30()"
   ]
  },
  {
   "cell_type": "code",
   "execution_count": 3,
   "id": "0ba427aa",
   "metadata": {},
   "outputs": [],
   "source": [
    "for i in net.line.index.values:\n",
    "    net.line.at[i, 'name'] = f\"{net.line.at[i, 'from_bus']+1} - {net.line.at[i, 'to_bus']+1}\""
   ]
  },
  {
   "cell_type": "code",
   "execution_count": 4,
   "id": "357ca458",
   "metadata": {},
   "outputs": [],
   "source": [
    "# replicating the calculation from the paper Frank et.al.:\n",
    "net.line[\"alpha\"] = 1 / (25 + 228.1)\n",
    "net.line[\"r_theta\"] = calc_r_theta_from_t_rise(net, 25)\n",
    "net.line[\"tdpf\"] = net.line.r_ohm_per_km != 0\n",
    "\n",
    "net.line[\"temperature_degree_celsius\"] = 25\n",
    "net.line[\"reference_temperature_degree_celsius\"] = 25\n",
    "net.line[\"ambient_temperature_degree_celsius\"] = 25\n",
    "net.line[\"outer_diameter_m\"] = 30.6e-3\n",
    "net.line[\"mc_joule_per_m_k\"] = 1490\n",
    "net.line[\"wind_speed_m_per_s\"] = 0.6\n",
    "net.line[\"wind_angle_degree\"] = 45\n",
    "net.line[\"solar_radiation_w_per_sq_m\"] = 900\n",
    "net.line[\"gamma\"] = 0.5\n",
    "net.line[\"epsilon\"] = 0.5\n",
    "# net.line[\"c_nf_per_km\"] = 0  # otherwise i_square_pu will not match net.res_line.i_ka"
   ]
  },
  {
   "cell_type": "code",
   "execution_count": 5,
   "id": "16beeb7e",
   "metadata": {},
   "outputs": [],
   "source": [
    "pp.runpp(net, tdpf=True, tdpf_update_r_theta=False, max_iteration=30)"
   ]
  },
  {
   "cell_type": "code",
   "execution_count": 6,
   "id": "4ee5e971",
   "metadata": {},
   "outputs": [],
   "source": [
    "branch = net._ppc[\"branch\"]\n",
    "V = net._ppc[\"internal\"][\"V\"]\n",
    "Vm = abs(V)\n",
    "Va = np.angle(V)"
   ]
  },
  {
   "cell_type": "code",
   "execution_count": 7,
   "id": "ed3134a9",
   "metadata": {},
   "outputs": [],
   "source": [
    "# check if p_loss_pu is correct and i_square_pu is correct\n",
    "g, b = calc_g_b(branch[:, BR_R].real, branch[:, BR_X].real)\n",
    "i_square_pu, p_loss_pu = calc_i_square_p_loss(branch, np.arange(len(branch)), g, b, Vm, Va)\n",
    "assert np.allclose(p_loss_pu * net.sn_mva, net.res_line.pl_mw)\n",
    "# only passes if c_nf_per_km==0\n",
    "# assert np.allclose(np.sqrt(i_square_pu), net.res_line.i_from_ka / net.sn_mva * (135 * np.sqrt(3)))"
   ]
  },
  {
   "cell_type": "code",
   "execution_count": 8,
   "id": "f9a41920",
   "metadata": {},
   "outputs": [],
   "source": [
    "v_base_kv = net.bus.loc[net.line.from_bus].vn_kv.values\n",
    "z_base_ohm = np.square(v_base_kv) / net.sn_mva\n",
    "net.line[\"temp\"] = net.res_line.temperature_degree_celsius\n",
    "net.line[\"loading_percent\"] = net.res_line.loading_percent\n",
    "net.line[\"pl\"] = net.res_line.pl_mw\n",
    "net.line[\"r1\"] = net.line.r_ohm_per_km / z_base_ohm\n",
    "net.line[\"r2\"] = net.res_line.r_ohm_per_km / z_base_ohm\n",
    "net.line[\"r_delta\"] = (net.res_line.r_ohm_per_km - net.line.r_ohm_per_km) / net.line.r_ohm_per_km * 100\n",
    "net.line[\"mva\"] = np.sqrt(net.res_line.p_from_mw**2 + net.res_line.q_from_mvar**2)\n",
    "#net.line.sort_values(by=\"loading_percent\", ascending=False)"
   ]
  },
  {
   "cell_type": "code",
   "execution_count": 9,
   "id": "a5766036",
   "metadata": {},
   "outputs": [],
   "source": [
    "ref2 = pd.read_csv(\"case30_branch_details.csv\")"
   ]
  },
  {
   "cell_type": "code",
   "execution_count": 10,
   "id": "e5aa47b2",
   "metadata": {},
   "outputs": [],
   "source": [
    "# compare p_loss\n",
    "assert np.allclose(ref2.sort_values(by=\"R_THETA\", ascending=False).PLoss_TDPF * net.sn_mva, \n",
    "                   net.line.sort_values(by=\"r_theta\", ascending=False).pl, rtol=0, atol=1e-6)\n",
    "# compare R_Theta\n",
    "assert np.allclose(ref2.sort_values(by=\"R_THETA\", ascending=False).R_THETA, \n",
    "                   net.line.sort_values(by=\"r_theta\", ascending=False).r_theta)\n",
    "# compare difference of R\n",
    "assert np.allclose (ref2.sort_values(by=\"R_THETA\", ascending=False).R_diff.fillna(0) * 100,\n",
    "                    net.line.sort_values(by=\"r_theta\", ascending=False).r_delta.fillna(0))"
   ]
  }
 ],
 "metadata": {
  "kernelspec": {
   "display_name": "Python 3 (ipykernel)",
   "language": "python",
   "name": "python3"
  },
  "language_info": {
   "codemirror_mode": {
    "name": "ipython",
    "version": 3
   },
   "file_extension": ".py",
   "mimetype": "text/x-python",
   "name": "python",
   "nbconvert_exporter": "python",
   "pygments_lexer": "ipython3",
   "version": "3.10.4"
  }
 },
 "nbformat": 4,
 "nbformat_minor": 5
}
