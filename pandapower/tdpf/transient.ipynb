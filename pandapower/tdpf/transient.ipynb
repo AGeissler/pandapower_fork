{
 "cells": [
  {
   "cell_type": "code",
   "execution_count": 1,
   "metadata": {},
   "outputs": [],
   "source": [
    "import pandas as pd\n",
    "import matplotlib.pyplot as plt\n",
    "import numpy as np\n",
    "\n",
    "from pandapower.tdpf.create_jacobian_tdpf import calc_a0_a1_a2_tau, calc_t_ss, calc_t_transient"
   ]
  },
  {
   "cell_type": "code",
   "execution_count": 2,
   "metadata": {},
   "outputs": [],
   "source": [
    "# conductor data\n",
    "t_amb = 40\n",
    "t_max = 90\n",
    "r_ref_ohm_per_m = 0.1824e-3\n",
    "conductor_outer_diameter_m = 18.2e-3\n",
    "v_m_per_s = 0.5\n",
    "wind_angle_degree = 45\n",
    "s_w_per_square_meter = 1000\n",
    "alpha = 0.004\n",
    "gamma = epsilon = 0.5\n",
    "mc_joule_per_m_k = 525"
   ]
  },
  {
   "cell_type": "code",
   "execution_count": 3,
   "metadata": {},
   "outputs": [],
   "source": [
    "a0, a1, a2, tau = calc_a0_a1_a2_tau(t_amb=t_amb, t_max=t_max, r_ref_ohm_per_m=r_ref_ohm_per_m,\n",
    "                                    conductor_outer_diameter_m=conductor_outer_diameter_m, mc_joule_per_m_k=mc_joule_per_m_k,\n",
    "                                    v_m_per_s=v_m_per_s, wind_angle_degree=wind_angle_degree, s_w_per_square_meter=s_w_per_square_meter)"
   ]
  },
  {
   "cell_type": "code",
   "execution_count": 4,
   "metadata": {},
   "outputs": [
    {
     "data": {
      "text/plain": [
       "60.7204449490497"
      ]
     },
     "execution_count": 4,
     "metadata": {},
     "output_type": "execute_result"
    }
   ],
   "source": [
    "t_start = calc_t_ss(250, a0, a1, a2)\n",
    "t_start"
   ]
  },
  {
   "cell_type": "code",
   "execution_count": 5,
   "metadata": {},
   "outputs": [
    {
     "data": {
      "text/plain": [
       "60.7204449490497"
      ]
     },
     "execution_count": 5,
     "metadata": {},
     "output_type": "execute_result"
    }
   ],
   "source": [
    "calc_t_transient(0, 1e9, 250, a0, a1, a2, tau)"
   ]
  },
  {
   "cell_type": "code",
   "execution_count": 6,
   "metadata": {},
   "outputs": [],
   "source": [
    "t = [calc_t_transient(t_start, t_min * 60, 450, a0, a1, a2, tau) for t_min in range(41)]"
   ]
  },
  {
   "cell_type": "code",
   "execution_count": 7,
   "metadata": {},
   "outputs": [
    {
     "data": {
      "text/plain": [
       "(0.0, 120.0)"
      ]
     },
     "execution_count": 7,
     "metadata": {},
     "output_type": "execute_result"
    },
    {
     "data": {
      "image/png": "[encoded data removed]",
      "text/plain": [
       "<Figure size 432x288 with 1 Axes>"
      ]
     },
     "metadata": {
      "needs_background": "light"
     },
     "output_type": "display_data"
    }
   ],
   "source": [
    "ax=plt.subplot()\n",
    "ax.plot(t)\n",
    "ax.grid(True)\n",
    "ax.set_ylim([0, 120])"
   ]
  },
  {
   "cell_type": "code",
   "execution_count": 8,
   "metadata": {},
   "outputs": [
    {
     "data": {
      "text/plain": [
       "8.310994534185484"
      ]
     },
     "execution_count": 8,
     "metadata": {},
     "output_type": "execute_result"
    }
   ],
   "source": [
    "tau / 60"
   ]
  },
  {
   "cell_type": "code",
   "execution_count": 9,
   "metadata": {},
   "outputs": [],
   "source": [
    "# conductor data 2\n",
    "t_amb = 40\n",
    "t_max = 150\n",
    "r_ref_ohm_per_m = 0.0373e-3\n",
    "conductor_outer_diameter_m = 38.4e-3\n",
    "v_m_per_s = 0.5\n",
    "wind_angle_degree = 45\n",
    "s_w_per_square_meter = 1000\n",
    "alpha = 0.0036\n",
    "gamma = epsilon = 0.5\n",
    "mc_joule_per_m_k = 2185"
   ]
  },
  {
   "cell_type": "code",
   "execution_count": 10,
   "metadata": {},
   "outputs": [],
   "source": [
    "a0, a1, a2, tau = calc_a0_a1_a2_tau(t_amb=t_amb, t_max=t_max, r_ref_ohm_per_m=r_ref_ohm_per_m,\n",
    "                                    conductor_outer_diameter_m=conductor_outer_diameter_m, mc_joule_per_m_k=mc_joule_per_m_k,\n",
    "                                    v_m_per_s=v_m_per_s, wind_angle_degree=wind_angle_degree, s_w_per_square_meter=s_w_per_square_meter)"
   ]
  },
  {
   "cell_type": "code",
   "execution_count": 11,
   "metadata": {},
   "outputs": [
    {
     "data": {
      "text/plain": [
       "114.85979623760666"
      ]
     },
     "execution_count": 11,
     "metadata": {},
     "output_type": "execute_result"
    }
   ],
   "source": [
    "t_start = calc_t_ss(1500, a0, a1, a2)\n",
    "t_start"
   ]
  },
  {
   "cell_type": "code",
   "execution_count": 12,
   "metadata": {},
   "outputs": [
    {
     "data": {
      "text/plain": [
       "114.85979623760666"
      ]
     },
     "execution_count": 12,
     "metadata": {},
     "output_type": "execute_result"
    }
   ],
   "source": [
    "calc_t_transient(0, 1e9, 1500, a0, a1, a2, tau)"
   ]
  },
  {
   "cell_type": "code",
   "execution_count": 13,
   "metadata": {},
   "outputs": [],
   "source": [
    "t = [calc_t_transient(t_start, t_min * 60, 1900, a0, a1, a2, tau) for t_min in range(41)]"
   ]
  },
  {
   "cell_type": "code",
   "execution_count": 14,
   "metadata": {},
   "outputs": [
    {
     "data": {
      "text/plain": [
       "(0.0, 180.0)"
      ]
     },
     "execution_count": 14,
     "metadata": {},
     "output_type": "execute_result"
    },
    {
     "data": {
      "image/png": "[encoded data removed]",
      "text/plain": [
       "<Figure size 432x288 with 1 Axes>"
      ]
     },
     "metadata": {
      "needs_background": "light"
     },
     "output_type": "display_data"
    }
   ],
   "source": [
    "ax=plt.subplot()\n",
    "ax.plot(t)\n",
    "ax.grid(True)\n",
    "ax.set_ylim([0, 180])"
   ]
  },
  {
   "cell_type": "code",
   "execution_count": 15,
   "metadata": {},
   "outputs": [
    {
     "data": {
      "text/plain": [
       "22.294917815557405"
      ]
     },
     "execution_count": 15,
     "metadata": {},
     "output_type": "execute_result"
    }
   ],
   "source": [
    "tau / 60"
   ]
  },
  {
   "cell_type": "code",
   "execution_count": null,
   "metadata": {},
   "outputs": [],
   "source": []
  }
 ],
 "metadata": {
  "kernelspec": {
   "display_name": "Python 3",
   "language": "python",
   "name": "python3"
  },
  "language_info": {
   "codemirror_mode": {
    "name": "ipython",
    "version": 3
   },
   "file_extension": ".py",
   "mimetype": "text/x-python",
   "name": "python",
   "nbconvert_exporter": "python",
   "pygments_lexer": "ipython3",
   "version": "3.8.8"
  }
 },
 "nbformat": 4,
 "nbformat_minor": 4
}
