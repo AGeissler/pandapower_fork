{
 "cells": [
  {
   "cell_type": "markdown",
   "metadata": {
    "pycharm": {
     "name": "#%% md\n"
    }
   },
   "source": [
    "# Multinetwork storage optimization with PowerModels.jl\n",
    "This tutorial describes how to run a storage optimization over multiple timesteps with a PowerModels.jl multinetwork\n",
    "together with pandapower.\n",
    "\n",
    "To run a storage optimization over multiple time steps, the power system data is copied n_timestep times internally.\n",
    "This is done efficiently in a julia script. Each network in the multinetwork dict represents a single time step. \n",
    "The input time series must be written to the loads and generators accordingly to each network. \n",
    "This is currently done by converting input time series to a dict, saving it as a json file and loading the data\n",
    "back in julia. This \"hack\" is probably just a temporary solution. \n",
    "\n",
    "Some notes:\n",
    "* only storages which are set as \"controllable\" are optimized\n",
    "* time series can be written to load / sgen elements only at the moment\n",
    "* output of the optimization is a dict containing pandas DataFrames for every optimized storage and time step   \n",
    "\n",
    "For more details on PowerModels storage model see:\n",
    "\n",
    "https://lanl-ansi.github.io/PowerModels.jl/stable/storage/ \n",
    "\n",
    "For more details on PowerModels multinetworks see:\n",
    "\n",
    "https://lanl-ansi.github.io/PowerModels.jl/stable/multi-networks/\n"
   ]
  },
  {
   "cell_type": "markdown",
   "metadata": {},
   "source": [
    "# Installation\n",
    "You need the standard Julia, PowerModels, Ipopt and JuMP Installation (see the opf_powermodels.ipynb).\n",
    " "
   ]
  },
  {
   "cell_type": "markdown",
   "metadata": {},
   "source": [
    "# Run the storage optimization\n",
    "In order to start the optimization and visualize results, we follow four steps:\n",
    "1. Load the pandapower grid data (here the cigre MV grid)\n",
    "2. Convert the time series to the dict\n",
    "3. Start the optimization\n",
    "4. plot the results\n"
   ]
  },
  {
   "cell_type": "markdown",
   "metadata": {
    "pycharm": {
     "name": "#%% md\n"
    }
   },
   "source": [
    "## Get the grid data\n",
    "We load the cigre medium voltage grid with \"pv\" and \"wind\" generators. Also we set some limits and add a storage with\n",
    "**controllable** == True\n"
   ]
  },
  {
   "cell_type": "code",
   "execution_count": 1,
   "metadata": {},
   "outputs": [],
   "source": [
    "import json\n",
    "import os\n",
    "import tempfile\n",
    "\n",
    "import matplotlib.pyplot as plt\n",
    "import numpy as np\n",
    "import pandas as pd\n",
    "\n",
    "import pandapower as pp\n",
    "import pandapower.networks as nw\n",
    "\n",
    "from julia import *\n",
    "\n",
    "def cigre_grid():\n",
    "    net = nw.create_cigre_network_mv(\"pv_wind\")\n",
    "    # set some limits\n",
    "    min_vm_pu = 0.95\n",
    "    max_vm_pu = 1.05\n",
    "\n",
    "    net[\"bus\"].loc[:, \"min_vm_pu\"] = min_vm_pu\n",
    "    net[\"bus\"].loc[:, \"max_vm_pu\"] = max_vm_pu\n",
    "\n",
    "    net[\"line\"].loc[:, \"max_loading_percent\"] = 100.\n",
    "\n",
    "    # close all switches\n",
    "    net.switch.loc[:, \"closed\"] = True\n",
    "    # add storage to bus 10\n",
    "    pp.create_storage(net, 10, p_mw=0.5, max_e_mwh=.2, soc_percent=0., q_mvar=0., controllable=True)\n",
    "\n",
    "    return net\n",
    "\n"
   ]
  },
  {
   "cell_type": "markdown",
   "metadata": {},
   "source": [
    "## Convert the time series to a dict\n",
    "The following functions loads the example time series from the input_file and scales the power accordingly.\n",
    "It then stores the dict to a json file to a temporary folder.\n"
   ]
  },
  {
   "cell_type": "code",
   "execution_count": 2,
   "metadata": {
    "pycharm": {
     "name": "#%%\n"
    }
   },
   "outputs": [],
   "source": [
    "def convert_timeseries_to_dict(net, input_file):\n",
    "    # set the load type in the cigre grid, since it is not specified\n",
    "    net[\"load\"].loc[:, \"type\"] = \"residential\"\n",
    "    # change the type of the last sgen to wind\n",
    "    net.sgen.loc[:, \"type\"] = \"pv\"\n",
    "    net.sgen.loc[8, \"type\"] = \"wind\"\n",
    "\n",
    "    # read the example time series\n",
    "    time_series = pd.read_json(input_file)\n",
    "    time_series.sort_index(inplace=True)\n",
    "    # this example time series has a 15min resolution with 96 time steps for one day\n",
    "    n_timesteps = time_series.shape[0]\n",
    "\n",
    "    n_load = len(net.load)\n",
    "    n_sgen = len(net.sgen)\n",
    "    p_timeseries = np.zeros((n_timesteps, n_load + n_sgen), dtype=float)\n",
    "    # p\n",
    "    load_p = net[\"load\"].loc[:, \"p_mw\"].values\n",
    "    sgen_p = net[\"sgen\"].loc[:7, \"p_mw\"].values\n",
    "    wind_p = net[\"sgen\"].loc[8, \"p_mw\"]\n",
    "\n",
    "    p_timeseries_dict = dict()\n",
    "    for t in range(n_timesteps):\n",
    "        # print(time_series.at[t, \"residential\"])\n",
    "        p_timeseries[t, :n_load] = load_p * time_series.at[t, \"residential\"]\n",
    "        p_timeseries[t, n_load:-1] = - sgen_p * time_series.at[t, \"pv\"]\n",
    "        p_timeseries[t, -1] = - wind_p * time_series.at[t, \"wind\"]\n",
    "        p_timeseries_dict[t] = p_timeseries[t, :].tolist()\n",
    "\n",
    "    time_series_file = os.path.join(tempfile.gettempdir(), \"timeseries.json\")\n",
    "    with open(time_series_file, 'w') as fp:\n",
    "        json.dump(p_timeseries_dict, fp)\n",
    "\n",
    "    return net, p_timeseries_dict\n"
   ]
  },
  {
   "cell_type": "markdown",
   "metadata": {},
   "source": [
    "## Start the optimization \n",
    "Here we start the optimization for the 15min resolution time series. Since we have 96 time steps and 15 min resolution\n",
    "we set n_timesteps=96 and time_elapsed=.25 as a quarter of an hour.\n"
   ]
  },
  {
   "cell_type": "code",
   "execution_count": 3,
   "metadata": {
	"tags": [
        "raises-exception"
     ],
    "pycharm": {
     "name": "#%%\n"
    }
   },
   "outputs": [
    {
     "name": "stderr",
     "output_type": "stream",
     "text": [
      "hp.pandapower.opf.make_objective - WARNING: no costs are given - overall generated power is minimized\n"
     ]
    },
    {
     "ename": "JuliaError",
     "evalue": "Exception 'UndefVarError: run_powermodels_mn_storage not defined' occurred while calling julia code:\nrun_powermodels_mn_storage(buffer_file)",
     "output_type": "error",
     "traceback": [
      "\u001b[1;31m---------------------------------------------------------------------------\u001b[0m",
      "\u001b[1;31mJuliaError\u001b[0m                                Traceback (most recent call last)",
      "Input \u001b[1;32mIn [3]\u001b[0m, in \u001b[0;36m<cell line: 12>\u001b[1;34m()\u001b[0m\n\u001b[0;32m      9\u001b[0m net, p_timeseries \u001b[38;5;241m=\u001b[39m convert_timeseries_to_dict(net, input_file)\n\u001b[0;32m     10\u001b[0m \u001b[38;5;66;03m# run the PowerModels.jl optimization\u001b[39;00m\n\u001b[0;32m     11\u001b[0m \u001b[38;5;66;03m# n_time steps = 96 and time_elapsed is a quarter of an hour (since the time series are in 15min resolution)\u001b[39;00m\n\u001b[1;32m---> 12\u001b[0m storage_results \u001b[38;5;241m=\u001b[39m \u001b[43mpp\u001b[49m\u001b[38;5;241;43m.\u001b[39;49m\u001b[43mrunpm_storage_opf\u001b[49m\u001b[43m(\u001b[49m\u001b[43mnet\u001b[49m\u001b[43m,\u001b[49m\u001b[43m \u001b[49m\u001b[43mn_timesteps\u001b[49m\u001b[38;5;241;43m=\u001b[39;49m\u001b[38;5;241;43m96\u001b[39;49m\u001b[43m,\u001b[49m\u001b[43m \u001b[49m\u001b[43mtime_elapsed\u001b[49m\u001b[38;5;241;43m=\u001b[39;49m\u001b[38;5;241;43m0.25\u001b[39;49m\u001b[43m)\u001b[49m\n",
      "File \u001b[1;32m~\\Documents\\Python Scripts\\pandapower\\pandapower\\runpm.py:231\u001b[0m, in \u001b[0;36mrunpm_storage_opf\u001b[1;34m(net, calculate_voltage_angles, trafo_model, delta, trafo3w_losses, check_connectivity, n_timesteps, time_elapsed, correct_pm_network_data, silence, pm_model, pm_time_limits, pm_log_level, opf_flow_lim, charge_efficiency, discharge_efficiency, standby_loss, p_loss, q_loss, pm_tol, pdm_dev_mode, **kwargs)\u001b[0m\n\u001b[0;32m    228\u001b[0m net\u001b[38;5;241m.\u001b[39m_options[\u001b[38;5;124m\"\u001b[39m\u001b[38;5;124mp_loss\u001b[39m\u001b[38;5;124m\"\u001b[39m] \u001b[38;5;241m=\u001b[39m p_loss\n\u001b[0;32m    229\u001b[0m net\u001b[38;5;241m.\u001b[39m_options[\u001b[38;5;124m\"\u001b[39m\u001b[38;5;124mq_loss\u001b[39m\u001b[38;5;124m\"\u001b[39m] \u001b[38;5;241m=\u001b[39m q_loss\n\u001b[1;32m--> 231\u001b[0m \u001b[43m_runpm\u001b[49m\u001b[43m(\u001b[49m\u001b[43mnet\u001b[49m\u001b[43m)\u001b[49m\n\u001b[0;32m    232\u001b[0m storage_results \u001b[38;5;241m=\u001b[39m read_pm_storage_results(net)\n\u001b[0;32m    233\u001b[0m \u001b[38;5;28;01mreturn\u001b[39;00m storage_results\n",
      "File \u001b[1;32m~\\Documents\\Python Scripts\\pandapower\\pandapower\\opf\\run_powermodels.py:35\u001b[0m, in \u001b[0;36m_runpm\u001b[1;34m(net, delete_buffer_file, pm_file_path, pdm_dev_mode, **kwargs)\u001b[0m\n\u001b[0;32m     33\u001b[0m logger\u001b[38;5;241m.\u001b[39mdebug(\u001b[38;5;124m\"\u001b[39m\u001b[38;5;124mthe json file for converted net is stored in: \u001b[39m\u001b[38;5;132;01m%s\u001b[39;00m\u001b[38;5;124m\"\u001b[39m \u001b[38;5;241m%\u001b[39m buffer_file)\n\u001b[0;32m     34\u001b[0m \u001b[38;5;66;03m# run power models optimization in julia\u001b[39;00m\n\u001b[1;32m---> 35\u001b[0m result_pm \u001b[38;5;241m=\u001b[39m \u001b[43m_call_pandamodels\u001b[49m\u001b[43m(\u001b[49m\u001b[43mbuffer_file\u001b[49m\u001b[43m,\u001b[49m\u001b[43m \u001b[49m\u001b[43mnet\u001b[49m\u001b[38;5;241;43m.\u001b[39;49m\u001b[43m_options\u001b[49m\u001b[43m[\u001b[49m\u001b[38;5;124;43m\"\u001b[39;49m\u001b[38;5;124;43mjulia_file\u001b[39;49m\u001b[38;5;124;43m\"\u001b[39;49m\u001b[43m]\u001b[49m\u001b[43m,\u001b[49m\u001b[43m \u001b[49m\u001b[43mpdm_dev_mode\u001b[49m\u001b[43m)\u001b[49m\n\u001b[0;32m     37\u001b[0m logger\u001b[38;5;241m.\u001b[39minfo(\u001b[38;5;124m\"\u001b[39m\u001b[38;5;124mOptimization (\u001b[39m\u001b[38;5;124m'\u001b[39m\u001b[38;5;124m\"\u001b[39m\u001b[38;5;241m+\u001b[39mnet\u001b[38;5;241m.\u001b[39m_options[\u001b[38;5;124m\"\u001b[39m\u001b[38;5;124mjulia_file\u001b[39m\u001b[38;5;124m\"\u001b[39m]\u001b[38;5;241m+\u001b[39m\u001b[38;5;124m\"\u001b[39m\u001b[38;5;124m'\u001b[39m\u001b[38;5;124m) \u001b[39m\u001b[38;5;124m\"\u001b[39m \u001b[38;5;241m+\u001b[39m\n\u001b[0;32m     38\u001b[0m             \u001b[38;5;124m\"\u001b[39m\u001b[38;5;124mis finished in \u001b[39m\u001b[38;5;132;01m%s\u001b[39;00m\u001b[38;5;124m seconds:\u001b[39m\u001b[38;5;124m\"\u001b[39m \u001b[38;5;241m%\u001b[39m \u001b[38;5;28mround\u001b[39m(result_pm[\u001b[38;5;124m\"\u001b[39m\u001b[38;5;124msolve_time\u001b[39m\u001b[38;5;124m\"\u001b[39m], \u001b[38;5;241m2\u001b[39m))\n\u001b[0;32m     39\u001b[0m \u001b[38;5;66;03m# read results and write back to net\u001b[39;00m\n",
      "File \u001b[1;32m~\\Documents\\Python Scripts\\pandapower\\pandapower\\opf\\run_powermodels.py:99\u001b[0m, in \u001b[0;36m_call_pandamodels\u001b[1;34m(buffer_file, julia_file, dev_mode)\u001b[0m\n\u001b[0;32m     96\u001b[0m     \u001b[38;5;28;01mraise\u001b[39;00m \u001b[38;5;167;01mImportError\u001b[39;00m(\u001b[38;5;124m\"\u001b[39m\u001b[38;5;124mcannot use PandaModels\u001b[39m\u001b[38;5;124m\"\u001b[39m)\n\u001b[0;32m     98\u001b[0m Main\u001b[38;5;241m.\u001b[39mbuffer_file \u001b[38;5;241m=\u001b[39m buffer_file\n\u001b[1;32m---> 99\u001b[0m result_pm \u001b[38;5;241m=\u001b[39m \u001b[43mMain\u001b[49m\u001b[38;5;241;43m.\u001b[39;49m\u001b[43meval\u001b[49m\u001b[43m(\u001b[49m\u001b[43mjulia_file\u001b[49m\u001b[43m \u001b[49m\u001b[38;5;241;43m+\u001b[39;49m\u001b[43m \u001b[49m\u001b[38;5;124;43m\"\u001b[39;49m\u001b[38;5;124;43m(buffer_file)\u001b[39;49m\u001b[38;5;124;43m\"\u001b[39;49m\u001b[43m)\u001b[49m\n\u001b[0;32m    101\u001b[0m \u001b[38;5;66;03m# if dev_mode:\u001b[39;00m\n\u001b[0;32m    102\u001b[0m \u001b[38;5;66;03m#     Pkg.activate()\u001b[39;00m\n\u001b[0;32m    103\u001b[0m \u001b[38;5;66;03m#     Pkg.free(\"PandaModels\")\u001b[39;00m\n\u001b[0;32m    104\u001b[0m \u001b[38;5;66;03m#     Pkg.resolve()\u001b[39;00m\n\u001b[0;32m    105\u001b[0m \u001b[38;5;28;01mreturn\u001b[39;00m result_pm\n",
      "File \u001b[1;32m~\\anaconda3\\setup\\lib\\site-packages\\julia\\core.py:621\u001b[0m, in \u001b[0;36mJulia.eval\u001b[1;34m(self, src)\u001b[0m\n\u001b[0;32m    619\u001b[0m \u001b[38;5;28;01mif\u001b[39;00m src \u001b[38;5;129;01mis\u001b[39;00m \u001b[38;5;28;01mNone\u001b[39;00m:\n\u001b[0;32m    620\u001b[0m     \u001b[38;5;28;01mreturn\u001b[39;00m \u001b[38;5;28;01mNone\u001b[39;00m\n\u001b[1;32m--> 621\u001b[0m ans \u001b[38;5;241m=\u001b[39m \u001b[38;5;28;43mself\u001b[39;49m\u001b[38;5;241;43m.\u001b[39;49m\u001b[43m_call\u001b[49m\u001b[43m(\u001b[49m\u001b[43msrc\u001b[49m\u001b[43m)\u001b[49m\n\u001b[0;32m    622\u001b[0m \u001b[38;5;28;01mif\u001b[39;00m \u001b[38;5;129;01mnot\u001b[39;00m ans:\n\u001b[0;32m    623\u001b[0m     \u001b[38;5;28;01mreturn\u001b[39;00m \u001b[38;5;28;01mNone\u001b[39;00m\n",
      "File \u001b[1;32m~\\anaconda3\\setup\\lib\\site-packages\\julia\\core.py:549\u001b[0m, in \u001b[0;36mJulia._call\u001b[1;34m(self, src)\u001b[0m\n\u001b[0;32m    547\u001b[0m \u001b[38;5;66;03m# logger.debug(\"_call(%s)\", src)\u001b[39;00m\n\u001b[0;32m    548\u001b[0m ans \u001b[38;5;241m=\u001b[39m \u001b[38;5;28mself\u001b[39m\u001b[38;5;241m.\u001b[39mapi\u001b[38;5;241m.\u001b[39mjl_eval_string(src\u001b[38;5;241m.\u001b[39mencode(\u001b[38;5;124m'\u001b[39m\u001b[38;5;124mutf-8\u001b[39m\u001b[38;5;124m'\u001b[39m))\n\u001b[1;32m--> 549\u001b[0m \u001b[38;5;28;43mself\u001b[39;49m\u001b[38;5;241;43m.\u001b[39;49m\u001b[43mcheck_exception\u001b[49m\u001b[43m(\u001b[49m\u001b[43msrc\u001b[49m\u001b[43m)\u001b[49m\n\u001b[0;32m    551\u001b[0m \u001b[38;5;28;01mreturn\u001b[39;00m ans\n",
      "File \u001b[1;32m~\\anaconda3\\setup\\lib\\site-packages\\julia\\core.py:603\u001b[0m, in \u001b[0;36mJulia.check_exception\u001b[1;34m(self, src)\u001b[0m\n\u001b[0;32m    601\u001b[0m \u001b[38;5;28;01melse\u001b[39;00m:\n\u001b[0;32m    602\u001b[0m     exception \u001b[38;5;241m=\u001b[39m sprint(showerror, \u001b[38;5;28mself\u001b[39m\u001b[38;5;241m.\u001b[39m_as_pyobj(res))\n\u001b[1;32m--> 603\u001b[0m \u001b[38;5;28;01mraise\u001b[39;00m JuliaError(\u001b[38;5;124mu\u001b[39m\u001b[38;5;124m'\u001b[39m\u001b[38;5;124mException \u001b[39m\u001b[38;5;130;01m\\'\u001b[39;00m\u001b[38;5;132;01m{}\u001b[39;00m\u001b[38;5;130;01m\\'\u001b[39;00m\u001b[38;5;124m occurred while calling julia code:\u001b[39m\u001b[38;5;130;01m\\n\u001b[39;00m\u001b[38;5;132;01m{}\u001b[39;00m\u001b[38;5;124m'\u001b[39m\n\u001b[0;32m    604\u001b[0m                  \u001b[38;5;241m.\u001b[39mformat(exception, src))\n",
      "\u001b[1;31mJuliaError\u001b[0m: Exception 'UndefVarError: run_powermodels_mn_storage not defined' occurred while calling julia code:\nrun_powermodels_mn_storage(buffer_file)"
     ]
    }
   ],
   "source": [
    "import sys\n",
    "from subprocess import call\n",
    "call([\"ldd\", sys.executable])\n",
    "\n",
    "# open the cigre mv grid\n",
    "net = cigre_grid()\n",
    "# convert the time series to a dict and save it to disk\n",
    "input_file = \"cigre_timeseries_15min.json\"\n",
    "net, p_timeseries = convert_timeseries_to_dict(net, input_file)\n",
    "# run the PowerModels.jl optimization\n",
    "# n_time steps = 96 and time_elapsed is a quarter of an hour (since the time series are in 15min resolution)\n",
    "storage_results = pp.runpm_storage_opf(net, n_timesteps=96, time_elapsed=0.25)\n"
   ]
  },
  {
   "cell_type": "markdown",
   "metadata": {},
   "source": [
    "## Store the results (optionally) \n",
    "Store the results to a json file\n"
   ]
  },
  {
   "cell_type": "code",
   "execution_count": null,
   "metadata": {
    "pycharm": {
     "name": "#%%\n"
    }
   },
   "outputs": [],
   "source": [
    "def store_results(storage_results, grid_name):\n",
    "    for key, val in storage_results.items():\n",
    "        file = grid_name + \"_strg_res\" + str(key) + \".json\"\n",
    "        print(\"Storing results to file {}\".format(file))\n",
    "        print(val)\n",
    "        val.to_json(file)\n",
    "# store the results to disk optionally\n",
    "store_results(storage_results, \"cigre_ts\")\n"
   ]
  },
  {
   "cell_type": "markdown",
   "metadata": {},
   "source": [
    "## Plot the results \n",
    "Plot the optimization results for the storage.\n"
   ]
  },
  {
   "cell_type": "code",
   "execution_count": null,
   "metadata": {
    "pycharm": {
     "name": "#%%\n"
    }
   },
   "outputs": [],
   "source": [
    "def plot_storage_results(storage_results):\n",
    "    n_res = len(storage_results.keys())\n",
    "    fig, axes = plt.subplots(n_res, 2)\n",
    "    if n_res == 1:\n",
    "        axes = [axes]\n",
    "    for i, (key, val) in enumerate(storage_results.items()):\n",
    "        res = val\n",
    "        axes[i][0].set_title(\"Storage {}\".format(key))\n",
    "        el = res.loc[:, [\"p_mw\", \"q_mvar\", \"soc_mwh\"]]\n",
    "        el.plot(ax=axes[i][0])\n",
    "        axes[i][0].set_xlabel(\"time step\")\n",
    "        axes[i][0].legend(loc=4)\n",
    "        axes[i][0].grid()\n",
    "        ax2 = axes[i][1]\n",
    "        patch = plt.plot([], [], ms=8, ls=\"--\", mec=None, color=\"grey\", label=\"{:s}\".format(\"soc_percent\"))\n",
    "        ax2.legend(handles=patch)\n",
    "        ax2.set_label(\"SOC percent\")\n",
    "        res.loc[:, \"soc_percent\"].plot(ax=ax2, linestyle=\"--\", color=\"grey\")\n",
    "        ax2.grid()\n",
    "\n",
    "    plt.show()\n",
    "# plot the result\n",
    "plot_storage_results(storage_results)"
   ]
  }
 ],
 "metadata": {
	"nbreg": {"skip": true,
	"skip_reason": "Not ready for testing."
   },
  "kernelspec": {
   "display_name": "Python 3",
   "language": "python",
   "name": "python3"
  },
  "execution":{
	"allow_errors":true,
	"timeout":3000
  }
  "language_info": {
   "codemirror_mode": {
    "name": "ipython",
    "version": 3
   },
   "file_extension": ".py",
   "mimetype": "text/x-python",
   "name": "python",
   "nbconvert_exporter": "python",
   "pygments_lexer": "ipython3",
   "version": "3.9.12"
  },
  "pycharm": {
   "stem_cell": {
    "cell_type": "raw",
    "metadata": {
     "collapsed": false
    },
    "source": []
   }
  }
 },
 "nbformat": 4,
 "nbformat_minor": 1,
 "nbreg": {"skip": true,
   "skip_reason": "Not ready for testing."}
 
}
