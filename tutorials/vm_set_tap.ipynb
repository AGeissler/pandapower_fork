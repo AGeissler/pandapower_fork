{
 "cells": [
  {
   "cell_type": "markdown",
   "id": "d6e4611c",
   "metadata": {},
   "source": [
    "# Transformer tap changer based on load flow results for the transformer"
   ]
  },
  {
   "cell_type": "markdown",
   "id": "d29cbec8",
   "metadata": {},
   "source": [
    "In this tuitorial, we describe a transformer tap control strategy in a Low-Voltage (LV) distribution grid with distributed generation. The concept of the tap changer control is based on reacting to the direction and magnitude of the power flowing through the transformer. If the power is flowing towards the grid, it signifies consumption and a voltage drop in the grid. In this situation, it is beneficial to increase the voltage setpoint for the transformer tap changer. Alternatively, if the power is flowing through the transformer out of the grid, it is likely that the voltage rises due to distributed generation. In this case, the voltage setpoint of the transformer tap changer can be reduced. This control strategy allows expanding the usable voltage band. The characteristic curve for the voltage setpoint can be configured to match the voltage behavior in the grid, potentially leading to a better utilization of the available voltage band, than if using the local control strategy (with only ContinuousTapControl or DiscreteTapControl)."
   ]
  },
  {
   "cell_type": "code",
   "execution_count": null,
   "id": "bcb67635",
   "metadata": {},
   "outputs": [],
   "source": [
    "import os\n",
    "import numpy as np\n",
    "import pandas as pd\n",
    "import tempfile\n",
    "import pandapower as pp\n",
    "import pandapower.control\n",
    "import pandapower.control as control\n",
    "from pandapower.control import Characteristic, SplineCharacteristic\n",
    "from pandapower.control.util.auxiliary import plot_characteristic\n",
    "from scipy.interpolate import interp1d"
   ]
  },
  {
   "cell_type": "markdown",
   "id": "e8c17b9d",
   "metadata": {},
   "source": [
    "First, we crate an example grid with a load and a static generator:"
   ]
  },
  {
   "cell_type": "code",
   "execution_count": null,
   "id": "ad57445a",
   "metadata": {},
   "outputs": [],
   "source": [
    "net = pp.create_empty_network() \n",
    "for i in range(4):\n",
    "    if i < 2:\n",
    "        vn=110\n",
    "    else:\n",
    "        vn=20\n",
    "    pp.create_bus(net, name='Bus %s' % i, vn_kv=vn, type=\"n\")\n",
    "pp.create_line(net, 0, 1, length_km=10, std_type=\"149-AL1/24-ST1A 110.0\",name=\"Line 1\")\n",
    "pp.create_line(net, 2, 3, length_km=10, std_type=\"184-AL1/30-ST1A 20.0\",name=\"Line 2\")\n",
    "pp.create_ext_grid(net, 0, vm_pu=1.02, va_degree=50)   \n",
    "trafo = pp.create_transformer(net, 1, 2, name=\"110kV/20kV transformer\", std_type=\"25 MVA 110/20 kV\")\n",
    "pp.create_load(net, 3, p_mw=35, q_mvar=4, scaling=1, name=\"load\")\n",
    "pp.create_sgen(net, 3, p_mw=10, q_mvar=3,  name=\"generator\") \n",
    "net.bus"
   ]
  },
  {
   "cell_type": "markdown",
   "id": "29a26026",
   "metadata": {},
   "source": [
    "We use a ContiniousTapControl controller to adjust the transformer tap position and we set the voltage setpoint to 0.98 p. u."
   ]
  },
  {
   "cell_type": "code",
   "execution_count": null,
   "id": "c5a74764",
   "metadata": {},
   "outputs": [],
   "source": [
    "trafo_controller = control.ContinuousTapControl(net=net, tid=0, vm_set_pu=0.98, tol=1e-6)"
   ]
  },
  {
   "cell_type": "markdown",
   "id": "c9abccd1",
   "metadata": {},
   "source": [
    "An object of class Characteristic can be used to provide a function for the voltage setpoint in relation to the input variable. The function is a piecewise linear characteristic. In this case, the characteristic represents the voltage setpoint depending on the active power flowing through the transformer:"
   ]
  },
  {
   "cell_type": "code",
   "execution_count": null,
   "id": "b8cac110",
   "metadata": {},
   "outputs": [],
   "source": [
    "c = Characteristic(net, x_values=[-20, -15, -5, 5,15, 20], y_values=[0.92, 0.97, 0.98, 1.02, 1.03, 1.08])"
   ]
  },
  {
   "cell_type": "markdown",
   "id": "9ad1569c",
   "metadata": {},
   "source": [
    "We can obtain the exact voltage setpoint that corresponds to a certain input value by calling it. For example, the voltage setpoint for the active power of 0 MW is 1.0 p. u."
   ]
  },
  {
   "cell_type": "code",
   "execution_count": null,
   "id": "d927ccf9",
   "metadata": {},
   "outputs": [],
   "source": [
    "c(x=0)"
   ]
  },
  {
   "cell_type": "markdown",
   "id": "33889b04",
   "metadata": {},
   "source": [
    "The Characteristic can be displayed visually:"
   ]
  },
  {
   "cell_type": "code",
   "execution_count": null,
   "id": "336cb69f",
   "metadata": {},
   "outputs": [],
   "source": [
    "plot_characteristic(c,-25,25,50, 'p_hv_mw', 'u_set_pu')"
   ]
  },
  {
   "cell_type": "markdown",
   "id": "cf85d577",
   "metadata": {},
   "source": [
    "We use an additional controller of class USetTapControl to adjust the voltage setpoint of the ContinuousTapControl based on the defined Characteristic. It is possible to use any variable from the transformer results table, the standard variable is p_hv_mw."
   ]
  },
  {
   "cell_type": "code",
   "execution_count": null,
   "id": "e7956cd8",
   "metadata": {},
   "outputs": [],
   "source": [
    "tc = control.VmSetTapControl(net, 0, characteristic_index=c.index, tol=0.0005)"
   ]
  },
  {
   "cell_type": "markdown",
   "id": "47fc7867",
   "metadata": {},
   "source": [
    "Now, we can run the calculation and verify the results for different load flow situations."
   ]
  },
  {
   "cell_type": "code",
   "execution_count": null,
   "id": "ae5fdc88",
   "metadata": {},
   "outputs": [],
   "source": [
    "pp.runpp(net, run_control=True)\n",
    "print(f\"The load has active power of {net.load.at[0, 'p_mw']} MW, sgen has active power of {net.sgen.at[0, 'p_mw']} MW\")\n",
    "print(f\"Power flowing through the transformer is {net.res_trafo.at[0, 'p_hv_mw']:.2f} MW\")\n",
    "print(f\"Voltage setpoint from Characteristic is {c(x=net.res_trafo.at[0, 'p_hv_mw']):.3f} p. u.\")\n",
    "print(f\"Voltage at the controlled bus is {net.res_bus.at[2, 'vm_pu']:.3f} p. u.\")\n",
    "print(f\"Transformer tap position is {net.trafo.at[0, 'tap_pos']:.2f}\")\n",
    "net.res_bus"
   ]
  },
  {
   "cell_type": "code",
   "execution_count": null,
   "id": "4c8024e0",
   "metadata": {},
   "outputs": [],
   "source": [
    "net.load.at[0, 'p_mw'] = 20\n",
    "pp.runpp(net, run_control=True)\n",
    "print(f\"The load has active power of {net.load.at[0, 'p_mw']} MW, sgen has active power of {net.sgen.at[0, 'p_mw']} MW\")\n",
    "print(f\"Power flowing through the transformer is {net.res_trafo.at[0, 'p_hv_mw']:.2f} MW\")\n",
    "print(f\"Voltage setpoint from Characteristic is {c(x=net.res_trafo.at[0, 'p_hv_mw']):.3f} p. u.\")\n",
    "print(f\"Voltage at the controlled bus is {net.res_bus.at[2, 'vm_pu']:.3f} p. u.\")\n",
    "print(f\"Transformer tap position is {net.trafo.at[0, 'tap_pos']:.2f}\")\n",
    "net.res_bus"
   ]
  },
  {
   "cell_type": "code",
   "execution_count": null,
   "id": "2e36eb9e",
   "metadata": {},
   "outputs": [],
   "source": [
    "net.load.at[0, 'p_mw'] = 0\n",
    "pp.runpp(net, run_control=True)\n",
    "print(f\"The load has active power of {net.load.at[0, 'p_mw']} MW, sgen has active power of {net.sgen.at[0, 'p_mw']} MW\")\n",
    "print(f\"Power flowing through the transformer is {net.res_trafo.at[0, 'p_hv_mw']:.2f} MW\")\n",
    "print(f\"Voltage setpoint from Characteristic is {c(x=net.res_trafo.at[0, 'p_hv_mw']):.3f} p. u.\")\n",
    "print(f\"Voltage at the controlled bus is {net.res_bus.at[2, 'vm_pu']:.3f} p. u.\")\n",
    "print(f\"Transformer tap position is {net.trafo.at[0, 'tap_pos']:.2f}\")\n",
    "net.res_bus"
   ]
  },
  {
   "cell_type": "markdown",
   "id": "83bb904f",
   "metadata": {},
   "source": [
    "Next, we demonstrate the usage of the current as the input instead of active power. To this end, we define a new Characteristic and a new USetTapControl."
   ]
  },
  {
   "cell_type": "code",
   "execution_count": null,
   "id": "dd08cfd7",
   "metadata": {},
   "outputs": [],
   "source": [
    "net.controller.at[tc.index, 'in_service'] = False\n",
    "c1 = Characteristic(net, x_values=[0, 0.2, 0.4, 0.6, 0.8, 1], y_values=[0.92, 0.97, 0.98, 1.02, 1.03, 1.08])\n",
    "tc1 = control.VmSetTapControl(net, 0, variable='i_lv_ka', characteristic_index=c1.index, tol=0.0005)\n",
    "plot_characteristic(c1,0,1,50)"
   ]
  },
  {
   "cell_type": "code",
   "execution_count": null,
   "id": "22a9f621",
   "metadata": {
    "scrolled": true
   },
   "outputs": [],
   "source": [
    "net.load.at[0, 'p_mw'] = 0\n",
    "pp.runpp(net, run_control=True)\n",
    "print(f\"The load has active power of {net.load.at[0, 'p_mw']} MW, sgen has active power of {net.sgen.at[0, 'p_mw']} MW\")\n",
    "print(f\"Current flowing through the transformer is {net.res_trafo.at[0, 'i_lv_ka']:.2f} kA\")\n",
    "print(f\"Voltage setpoint from Characteristic is {c1(x=net.res_trafo.at[0, 'i_lv_ka']):.3f} kA\")\n",
    "print(f\"Voltage at the controlled bus is {net.res_bus.at[2, 'vm_pu']:.3f} p. u.\")\n",
    "print(f\"Transformer tap position is {net.trafo.at[0, 'tap_pos']:.2f}\")\n",
    "net.res_bus"
   ]
  },
  {
   "cell_type": "code",
   "execution_count": null,
   "id": "b164f510",
   "metadata": {},
   "outputs": [],
   "source": [
    "net.load.at[0, 'p_mw'] = 20\n",
    "plot_characteristic(c1,0,1,50)\n",
    "pp.runpp(net, run_control=True)\n",
    "print(f\"The load has active power of {net.load.at[0, 'p_mw']} MW, sgen has active power of {net.sgen.at[0, 'p_mw']} MW\")\n",
    "print(f\"Current flowing through the transformer is {net.res_trafo.at[0, 'i_lv_ka']:.2f} kA\")\n",
    "print(f\"Voltage setpoint from Characteristic is {c1(x=net.res_trafo.at[0, 'i_lv_ka']):.3f} kA\")\n",
    "print(f\"Voltage at the controlled bus is {net.res_bus.at[2, 'vm_pu']:.3f} p. u.\")\n",
    "print(f\"Transformer tap position is {net.trafo.at[0, 'tap_pos']:.2f}\")\n",
    "net.res_bus"
   ]
  },
  {
   "cell_type": "code",
   "execution_count": null,
   "id": "61878371",
   "metadata": {},
   "outputs": [],
   "source": [
    "net.load.at[0, 'p_mw'] = 35\n",
    "pp.runpp(net, run_control=True)\n",
    "print(f\"The load has active power of {net.load.at[0, 'p_mw']} MW, sgen has active power of {net.sgen.at[0, 'p_mw']} MW\")\n",
    "print(f\"Current flowing through the transformer is {net.res_trafo.at[0, 'i_lv_ka']:.2f} kA\")\n",
    "print(f\"Voltage setpoint from Characteristic is {c1(x=net.res_trafo.at[0, 'i_lv_ka']):.3f} kA\")\n",
    "print(f\"Voltage at the controlled bus is {net.res_bus.at[2, 'vm_pu']:.3f} p. u.\")\n",
    "print(f\"Transformer tap position is {net.trafo.at[0, 'tap_pos']:.2f}\")\n",
    "net.res_bus"
   ]
  },
  {
   "cell_type": "markdown",
   "id": "ca1fd9ae",
   "metadata": {},
   "source": [
    "Now let's go ahead and use a non-linear function in place of the piecewise linear Characteristic. We will use the interp1d class from scipy.interpolate to substitute Characteristic in the controller USetTapControl."
   ]
  },
  {
   "cell_type": "code",
   "execution_count": null,
   "id": "0196bea8",
   "metadata": {},
   "outputs": [],
   "source": [
    "c2 = SplineCharacteristic(net, [0, 0.3, 0.7, 1], [0.92, 0.95, 1.05, 1.08])\n",
    "plot_characteristic(c2,0,1)"
   ]
  },
  {
   "cell_type": "code",
   "execution_count": null,
   "id": "a789211a",
   "metadata": {},
   "outputs": [],
   "source": [
    "tc1.characteristic_index = c2.index"
   ]
  },
  {
   "cell_type": "code",
   "execution_count": null,
   "id": "6e8f817e",
   "metadata": {},
   "outputs": [],
   "source": [
    "net.load.at[0, 'p_mw'] = 35\n",
    "pp.runpp(net, run_control=True)\n",
    "print(f\"The load has active power of {net.load.at[0, 'p_mw']} MW, sgen has active power of {net.sgen.at[0, 'p_mw']} MW\")\n",
    "print(f\"Current flowing through the transformer is {net.res_trafo.at[0, 'i_lv_ka']:.2f} kA\")\n",
    "print(f\"Voltage setpoint from Characteristic is {c2(x=net.res_trafo.at[0, 'i_lv_ka']):.3f} kA\")\n",
    "print(f\"Voltage at the controlled bus is {net.res_bus.at[2, 'vm_pu']:.3f} p. u.\")\n",
    "print(f\"Transformer tap position is {net.trafo.at[0, 'tap_pos']:.2f}\")\n",
    "net.res_bus"
   ]
  },
  {
   "cell_type": "markdown",
   "id": "2086f684",
   "metadata": {},
   "source": [
    "As we can see, USetTapControl can be used with different functions to define the characteristic, as well as with different input variables."
   ]
  }
 ],
 "metadata": {
  "kernelspec": {
   "display_name": "Python 3",
   "language": "python",
   "name": "python3"
  },
  "language_info": {
   "codemirror_mode": {
    "name": "ipython",
    "version": 3
   },
   "file_extension": ".py",
   "mimetype": "text/x-python",
   "name": "python",
   "nbconvert_exporter": "python",
   "pygments_lexer": "ipython3",
   "version": "3.9.12"
  }
 },
 "nbformat": 4,
 "nbformat_minor": 5
}
