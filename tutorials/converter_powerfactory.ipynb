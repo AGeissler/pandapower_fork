{
 "cells": [
  {
   "cell_type": "markdown",
   "id": "130754b2",
   "metadata": {},
   "source": [
    "# Export a grid model from PowerFactory to pandapower"
   ]
  },
  {
   "cell_type": "code",
   "execution_count": 9,
   "id": "43eb18ee",
   "metadata": {},
   "outputs": [],
   "source": [
    "import os\n",
    "import pytest\n",
    "\n",
    "from pandapower.converter.powerfactory.validate import validate_pf_conversion\n",
    "from pandapower.converter.powerfactory.export_pfd_to_pp import import_project, from_pfd\n",
    "\n",
    "import logging\n",
    "logger = logging.getLogger(__name__)\n",
    "logger.setLevel(\"INFO\")\n",
    "\n",
    "from pandapower.converter import powerfactory as pf"
   ]
  },
  {
   "cell_type": "markdown",
   "id": "7fece74b",
   "metadata": {},
   "source": [
    "## Make sure that the Python path contains the PowerFactory Python folder"
   ]
  },
  {
   "cell_type": "code",
   "execution_count": 10,
   "id": "b2cc19fe",
   "metadata": {},
   "outputs": [],
   "source": [
    "#os.environ['PYTHONPATH']"
   ]
  },
  {
   "cell_type": "markdown",
   "id": "d6711283",
   "metadata": {},
   "source": [
    "## Start PowerFactory in Engine Mode"
   ]
  },
  {
   "cell_type": "code",
   "execution_count": 11,
   "id": "1b0915b0",
   "metadata": {},
   "outputs": [
    {
     "ename": "AttributeError",
     "evalue": "module 'pandapower.converter.powerfactory' has no attribute 'GetApplication'",
     "output_type": "error",
     "traceback": [
      "\u001b[1;31m---------------------------------------------------------------------------\u001b[0m",
      "\u001b[1;31mAttributeError\u001b[0m                            Traceback (most recent call last)",
      "Input \u001b[1;32mIn [11]\u001b[0m, in \u001b[0;36m<cell line: 1>\u001b[1;34m()\u001b[0m\n\u001b[1;32m----> 1\u001b[0m app \u001b[38;5;241m=\u001b[39m \u001b[43mpf\u001b[49m\u001b[38;5;241;43m.\u001b[39;49m\u001b[43mGetApplication\u001b[49m()\n",
      "\u001b[1;31mAttributeError\u001b[0m: module 'pandapower.converter.powerfactory' has no attribute 'GetApplication'"
     ]
    }
   ],
   "source": [
    "app = pf.GetApplication()"
   ]
  },
  {
   "cell_type": "code",
   "execution_count": null,
   "id": "0a52cfae",
   "metadata": {},
   "outputs": [],
   "source": [
    "app"
   ]
  },
  {
   "cell_type": "code",
   "execution_count": null,
   "id": "d0e21c90",
   "metadata": {},
   "outputs": [],
   "source": [
    "app.Show()"
   ]
  },
  {
   "cell_type": "markdown",
   "id": "414cfe21",
   "metadata": {},
   "source": [
    "## Export a grid model from PowerFactory"
   ]
  },
  {
   "cell_type": "code",
   "execution_count": null,
   "id": "abd4de78",
   "metadata": {
    "scrolled": true
   },
   "outputs": [],
   "source": [
    "net = from_pfd(app, prj_name=\"PFExample\")"
   ]
  },
  {
   "cell_type": "markdown",
   "id": "48e926f9",
   "metadata": {},
   "source": [
    "## Compare the power flow results in PowerFactory and pandapower"
   ]
  },
  {
   "cell_type": "code",
   "execution_count": null,
   "id": "5a03212c",
   "metadata": {},
   "outputs": [],
   "source": [
    "all_diffs=validate_pf_conversion(net, tolerance_mva=1e-9)"
   ]
  },
  {
   "cell_type": "code",
   "execution_count": null,
   "id": "e3895c0d",
   "metadata": {},
   "outputs": [],
   "source": [
    "all_diffs['diff_vm'].describe()"
   ]
  }
 ],
 "metadata": {
  "kernelspec": {
   "display_name": "Python 3",
   "language": "python",
   "name": "python3"
  },
  "language_info": {
   "codemirror_mode": {
    "name": "ipython",
    "version": 3
   },
   "file_extension": ".py",
   "mimetype": "text/x-python",
   "name": "python",
   "nbconvert_exporter": "python",
   "pygments_lexer": "ipython3",
   "version": "3.9.12"
  }
 },
 "nbformat": 4,
 "nbformat_minor": 5
}
