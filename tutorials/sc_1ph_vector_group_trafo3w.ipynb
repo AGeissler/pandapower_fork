{
 "cells": [
  {
   "cell_type": "code",
   "execution_count": null,
   "metadata": {},
   "outputs": [],
   "source": [
    "import pandas as pd\n",
    "pd.options.display.float_format = '{:,.5f}'.format\n",
    "\n",
    "import pandapower as pp\n",
    "import pandapower.plotting\n",
    "from pandapower.test.shortcircuit.test_1ph import *"
   ]
  },
  {
   "cell_type": "code",
   "execution_count": null,
   "metadata": {},
   "outputs": [],
   "source": [
    "# beauftragt: Y0y0d5, YN0y0d5, Y0yn0d5, YN0yn0d5, Y0y0y0, Y0d5d5, YN0d5d5, Y0d5y0, Y0y0d11 und D0d0d0 \n",
    "# implementiert zusätzlich: YNdy, Ydyn, YNdyn, YNyy"
   ]
  },
  {
   "cell_type": "code",
   "execution_count": null,
   "metadata": {},
   "outputs": [],
   "source": [
    "vg = \"yyy\"\n",
    "net = single_3w_trafo_grid(vg)"
   ]
  },
  {
   "cell_type": "code",
   "execution_count": null,
   "metadata": {},
   "outputs": [],
   "source": [
    "pp.plotting.simple_plot(net, ext_grid_size=5)"
   ]
  },
  {
   "cell_type": "code",
   "execution_count": null,
   "metadata": {},
   "outputs": [],
   "source": [
    "%%capture\n",
    "net = single_3w_trafo_grid(\"Yyy\")\n",
    "sc.calc_sc(net, fault=\"1ph\", case=\"max\")"
   ]
  },
  {
   "cell_type": "code",
   "execution_count": null,
   "metadata": {},
   "outputs": [],
   "source": [
    "display(net.res_bus_sc)"
   ]
  },
  {
   "cell_type": "code",
   "execution_count": null,
   "metadata": {},
   "outputs": [],
   "source": [
    "%%capture\n",
    "net = single_3w_trafo_grid(\"Ydd\")\n",
    "sc.calc_sc(net, fault=\"1ph\", case=\"max\")"
   ]
  },
  {
   "cell_type": "code",
   "execution_count": null,
   "metadata": {},
   "outputs": [],
   "source": [
    "display(net.res_bus_sc)"
   ]
  },
  {
   "cell_type": "code",
   "execution_count": null,
   "metadata": {},
   "outputs": [],
   "source": [
    "%%capture\n",
    "net = single_3w_trafo_grid(\"Ddd\")\n",
    "sc.calc_sc(net, fault=\"1ph\", case=\"max\")"
   ]
  },
  {
   "cell_type": "code",
   "execution_count": null,
   "metadata": {},
   "outputs": [],
   "source": [
    "display(net.res_bus_sc)"
   ]
  },
  {
   "cell_type": "code",
   "execution_count": null,
   "metadata": {},
   "outputs": [],
   "source": [
    "%%capture\n",
    "net = single_3w_trafo_grid(\"Yynd\")\n",
    "sc.calc_sc(net, fault=\"1ph\", case=\"max\")"
   ]
  },
  {
   "cell_type": "code",
   "execution_count": null,
   "metadata": {},
   "outputs": [],
   "source": [
    "display(net.res_bus_sc)"
   ]
  },
  {
   "cell_type": "code",
   "execution_count": null,
   "metadata": {},
   "outputs": [],
   "source": [
    "%%capture\n",
    "net = single_3w_trafo_grid(\"Ydyn\")  # Extra vector group\n",
    "sc.calc_sc(net, fault=\"1ph\", case=\"max\")"
   ]
  },
  {
   "cell_type": "code",
   "execution_count": null,
   "metadata": {},
   "outputs": [],
   "source": [
    "display(net.res_bus_sc)"
   ]
  },
  {
   "cell_type": "code",
   "execution_count": null,
   "metadata": {},
   "outputs": [],
   "source": [
    "%%capture\n",
    "net = single_3w_trafo_grid(\"YNynd\")\n",
    "sc.calc_sc(net, fault=\"1ph\", case=\"max\")"
   ]
  },
  {
   "cell_type": "code",
   "execution_count": null,
   "metadata": {},
   "outputs": [],
   "source": [
    "display(net.res_bus_sc)"
   ]
  },
  {
   "cell_type": "code",
   "execution_count": null,
   "metadata": {},
   "outputs": [],
   "source": [
    "%%capture\n",
    "net = single_3w_trafo_grid(\"YNdyn\")  # Extra vector group\n",
    "sc.calc_sc(net, fault=\"1ph\", case=\"max\")"
   ]
  },
  {
   "cell_type": "code",
   "execution_count": null,
   "metadata": {},
   "outputs": [],
   "source": [
    "display(net.res_bus_sc)"
   ]
  },
  {
   "cell_type": "code",
   "execution_count": null,
   "metadata": {},
   "outputs": [],
   "source": [
    "%%capture\n",
    "net = single_3w_trafo_grid(\"YNyd\")\n",
    "sc.calc_sc(net, fault=\"1ph\", case=\"max\")"
   ]
  },
  {
   "cell_type": "code",
   "execution_count": null,
   "metadata": {},
   "outputs": [],
   "source": [
    "display(net.res_bus_sc)"
   ]
  },
  {
   "cell_type": "code",
   "execution_count": null,
   "metadata": {},
   "outputs": [],
   "source": [
    "%%capture\n",
    "net = single_3w_trafo_grid(\"YNdy\")  # Extra vector group\n",
    "sc.calc_sc(net, fault=\"1ph\", case=\"max\")"
   ]
  },
  {
   "cell_type": "code",
   "execution_count": null,
   "metadata": {},
   "outputs": [],
   "source": [
    "display(net.res_bus_sc)"
   ]
  },
  {
   "cell_type": "code",
   "execution_count": null,
   "metadata": {},
   "outputs": [],
   "source": [
    "%%capture\n",
    "net = single_3w_trafo_grid(\"YNdd\")\n",
    "sc.calc_sc(net, fault=\"1ph\", case=\"max\")"
   ]
  },
  {
   "cell_type": "code",
   "execution_count": null,
   "metadata": {},
   "outputs": [],
   "source": [
    "display(net.res_bus_sc)"
   ]
  },
  {
   "cell_type": "code",
   "execution_count": null,
   "metadata": {},
   "outputs": [],
   "source": [
    "%%capture\n",
    "net = single_3w_trafo_grid(\"YNyy\")  # Extra vector group\n",
    "sc.calc_sc(net, fault=\"1ph\", case=\"max\")"
   ]
  },
  {
   "cell_type": "code",
   "execution_count": null,
   "metadata": {},
   "outputs": [],
   "source": [
    "display(net.res_bus_sc)  # warum dasselbe Ergebnis wie Yyy?"
   ]
  },
  {
   "cell_type": "markdown",
   "metadata": {},
   "source": [
    "# Single-bus fault"
   ]
  },
  {
   "cell_type": "markdown",
   "metadata": {},
   "source": [
    "all-bus fault vs single-bus fault vs LU factorization"
   ]
  },
  {
   "cell_type": "markdown",
   "metadata": {},
   "source": [
    "## Ynynd"
   ]
  },
  {
   "cell_type": "code",
   "execution_count": null,
   "metadata": {},
   "outputs": [],
   "source": [
    "%%capture\n",
    "net = single_3w_trafo_grid(\"Ynynd\")  \n",
    "sc.calc_sc(net, fault=\"1ph\", case=\"max\")"
   ]
  },
  {
   "cell_type": "code",
   "execution_count": null,
   "metadata": {},
   "outputs": [],
   "source": [
    "display(net.res_bus_sc)"
   ]
  },
  {
   "cell_type": "code",
   "execution_count": null,
   "metadata": {},
   "outputs": [],
   "source": [
    "%%capture\n",
    "net = single_3w_trafo_grid(\"Ynynd\")  \n",
    "sc.calc_sc(net, fault=\"1ph\", case=\"max\", bus=0)"
   ]
  },
  {
   "cell_type": "code",
   "execution_count": null,
   "metadata": {},
   "outputs": [],
   "source": [
    "display(net.res_bus_sc)"
   ]
  },
  {
   "cell_type": "code",
   "execution_count": null,
   "metadata": {},
   "outputs": [],
   "source": [
    "%%capture\n",
    "# now with LU factorization instead of Y inversion\n",
    "net = single_3w_trafo_grid(\"Ynynd\")  \n",
    "sc.calc_sc(net, fault=\"1ph\", case=\"max\", bus=0, inverse_y=False)"
   ]
  },
  {
   "cell_type": "code",
   "execution_count": null,
   "metadata": {},
   "outputs": [],
   "source": [
    "display(net.res_bus_sc)"
   ]
  },
  {
   "cell_type": "code",
   "execution_count": null,
   "metadata": {},
   "outputs": [],
   "source": [
    "%%capture\n",
    "# now with LU factorization instead of Y inversion\n",
    "net = single_3w_trafo_grid(\"Ynynd\")  \n",
    "sc.calc_sc(net, fault=\"1ph\", case=\"max\", bus=1, inverse_y=False)"
   ]
  },
  {
   "cell_type": "code",
   "execution_count": null,
   "metadata": {},
   "outputs": [],
   "source": [
    "display(net.res_bus_sc)"
   ]
  },
  {
   "cell_type": "code",
   "execution_count": null,
   "metadata": {},
   "outputs": [],
   "source": [
    "%%capture\n",
    "# now with LU factorization instead of Y inversion\n",
    "net = single_3w_trafo_grid(\"Ynynd\")  \n",
    "sc.calc_sc(net, fault=\"1ph\", case=\"max\", bus=2, inverse_y=False)"
   ]
  },
  {
   "cell_type": "code",
   "execution_count": null,
   "metadata": {},
   "outputs": [],
   "source": [
    "display(net.res_bus_sc)"
   ]
  },
  {
   "cell_type": "markdown",
   "metadata": {},
   "source": [
    "## Ydd"
   ]
  },
  {
   "cell_type": "code",
   "execution_count": null,
   "metadata": {},
   "outputs": [],
   "source": [
    "%%capture\n",
    "net = single_3w_trafo_grid(\"Ydd\")  \n",
    "sc.calc_sc(net, fault=\"1ph\", case=\"max\")"
   ]
  },
  {
   "cell_type": "code",
   "execution_count": null,
   "metadata": {},
   "outputs": [],
   "source": [
    "display(net.res_bus_sc)"
   ]
  },
  {
   "cell_type": "code",
   "execution_count": null,
   "metadata": {},
   "outputs": [],
   "source": [
    "%%capture\n",
    "net = single_3w_trafo_grid(\"Ydd\")  \n",
    "sc.calc_sc(net, fault=\"1ph\", case=\"max\", bus=0, inverse_y=False)"
   ]
  },
  {
   "cell_type": "code",
   "execution_count": null,
   "metadata": {},
   "outputs": [],
   "source": [
    "display(net.res_bus_sc)"
   ]
  },
  {
   "cell_type": "code",
   "execution_count": null,
   "metadata": {},
   "outputs": [],
   "source": [
    "%%capture\n",
    "net = single_3w_trafo_grid(\"Ydd\")  \n",
    "sc.calc_sc(net, fault=\"1ph\", case=\"max\", bus=1, inverse_y=False)"
   ]
  },
  {
   "cell_type": "code",
   "execution_count": null,
   "metadata": {},
   "outputs": [],
   "source": [
    "display(net.res_bus_sc)"
   ]
  },
  {
   "cell_type": "code",
   "execution_count": null,
   "metadata": {},
   "outputs": [],
   "source": [
    "%%capture\n",
    "net = single_3w_trafo_grid(\"Ydd\")  \n",
    "sc.calc_sc(net, fault=\"1ph\", case=\"max\", bus=2, inverse_y=False)"
   ]
  },
  {
   "cell_type": "code",
   "execution_count": null,
   "metadata": {},
   "outputs": [],
   "source": [
    "display(net.res_bus_sc)"
   ]
  },
  {
   "cell_type": "markdown",
   "metadata": {},
   "source": [
    "## YNyd"
   ]
  },
  {
   "cell_type": "code",
   "execution_count": null,
   "metadata": {},
   "outputs": [],
   "source": [
    "%%capture\n",
    "net = single_3w_trafo_grid(\"YNyd\")  \n",
    "sc.calc_sc(net, fault=\"1ph\", case=\"max\")"
   ]
  },
  {
   "cell_type": "code",
   "execution_count": null,
   "metadata": {},
   "outputs": [],
   "source": [
    "display(net.res_bus_sc)"
   ]
  },
  {
   "cell_type": "code",
   "execution_count": null,
   "metadata": {},
   "outputs": [],
   "source": [
    "%%capture\n",
    "net = single_3w_trafo_grid(\"YNyd\")  \n",
    "sc.calc_sc(net, fault=\"1ph\", case=\"max\", bus=0, inverse_y=False)"
   ]
  },
  {
   "cell_type": "code",
   "execution_count": null,
   "metadata": {},
   "outputs": [],
   "source": [
    "display(net.res_bus_sc)"
   ]
  },
  {
   "cell_type": "code",
   "execution_count": null,
   "metadata": {},
   "outputs": [],
   "source": [
    "%%capture\n",
    "net = single_3w_trafo_grid(\"YNyd\")  \n",
    "sc.calc_sc(net, fault=\"1ph\", case=\"max\", bus=1, inverse_y=False)"
   ]
  },
  {
   "cell_type": "code",
   "execution_count": null,
   "metadata": {},
   "outputs": [],
   "source": [
    "display(net.res_bus_sc)"
   ]
  },
  {
   "cell_type": "code",
   "execution_count": null,
   "metadata": {},
   "outputs": [],
   "source": [
    "%%capture\n",
    "net = single_3w_trafo_grid(\"YNyd\")  \n",
    "sc.calc_sc(net, fault=\"1ph\", case=\"max\", bus=2, inverse_y=False)"
   ]
  },
  {
   "cell_type": "code",
   "execution_count": null,
   "metadata": {},
   "outputs": [],
   "source": [
    "display(net.res_bus_sc)"
   ]
  },
  {
   "cell_type": "markdown",
   "metadata": {},
   "source": [
    "## YNdd"
   ]
  },
  {
   "cell_type": "code",
   "execution_count": null,
   "metadata": {},
   "outputs": [],
   "source": [
    "%%capture\n",
    "net = single_3w_trafo_grid(\"YNdd\")  \n",
    "sc.calc_sc(net, fault=\"1ph\", case=\"max\")"
   ]
  },
  {
   "cell_type": "code",
   "execution_count": null,
   "metadata": {},
   "outputs": [],
   "source": [
    "display(net.res_bus_sc)"
   ]
  },
  {
   "cell_type": "code",
   "execution_count": null,
   "metadata": {},
   "outputs": [],
   "source": [
    "%%capture\n",
    "net = single_3w_trafo_grid(\"YNdd\")  \n",
    "sc.calc_sc(net, fault=\"1ph\", case=\"max\", bus=0, inverse_y=False)"
   ]
  },
  {
   "cell_type": "code",
   "execution_count": null,
   "metadata": {},
   "outputs": [],
   "source": [
    "display(net.res_bus_sc)"
   ]
  },
  {
   "cell_type": "code",
   "execution_count": null,
   "metadata": {},
   "outputs": [],
   "source": [
    "%%capture\n",
    "net = single_3w_trafo_grid(\"YNdd\")  \n",
    "sc.calc_sc(net, fault=\"1ph\", case=\"max\", bus=1, inverse_y=False)"
   ]
  },
  {
   "cell_type": "code",
   "execution_count": null,
   "metadata": {},
   "outputs": [],
   "source": [
    "display(net.res_bus_sc)"
   ]
  },
  {
   "cell_type": "code",
   "execution_count": null,
   "metadata": {},
   "outputs": [],
   "source": [
    "%%capture\n",
    "net = single_3w_trafo_grid(\"YNdd\")  \n",
    "sc.calc_sc(net, fault=\"1ph\", case=\"max\", bus=2, inverse_y=False)"
   ]
  },
  {
   "cell_type": "code",
   "execution_count": null,
   "metadata": {},
   "outputs": [],
   "source": [
    "display(net.res_bus_sc)"
   ]
  },
  {
   "cell_type": "markdown",
   "metadata": {},
   "source": [
    "For further vector groups, we included the check in the test, all the vector groups passed."
   ]
  }
 ],
 "metadata": {
  "kernelspec": {
   "display_name": "Python 3",
   "language": "python",
   "name": "python3"
  },
  "language_info": {
   "codemirror_mode": {
    "name": "ipython",
    "version": 3
   },
   "file_extension": ".py",
   "mimetype": "text/x-python",
   "name": "python",
   "nbconvert_exporter": "python",
   "pygments_lexer": "ipython3",
   "version": "3.9.12"
  }
 },
 "nbformat": 4,
 "nbformat_minor": 4
}
