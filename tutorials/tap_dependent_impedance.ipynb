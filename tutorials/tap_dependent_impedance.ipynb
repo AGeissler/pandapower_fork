{
 "cells": [
  {
   "cell_type": "markdown",
   "metadata": {},
   "source": [
    "# Tap dependent impedance of transformers"
   ]
  },
  {
   "cell_type": "markdown",
   "metadata": {},
   "source": [
    "With an adjustment of a tap position of a transformer, the number of windings is adjusted, which influences the impedence. The user can provide characteristics of the dependance of the variables vk_percent and vkr_percent on the tap position. A helper function in pandapower control module converts the provided points in a characteristic object with quadratic spline interpolation (or a user-defined characteristic object with a custom interpolation approach) and writes it in the trafo table. Finally, a diagnostic function checks for inconsistensies and provides information to the user."
   ]
  },
  {
   "cell_type": "code",
   "execution_count": null,
   "metadata": {},
   "outputs": [],
   "source": [
    "import numpy as np\n",
    "import pandas as pd\n",
    "import pandapower as pp\n",
    "import pandapower.control\n",
    "import json"
   ]
  },
  {
   "cell_type": "code",
   "execution_count": null,
   "metadata": {},
   "outputs": [],
   "source": [
    "def add_trafo_connection(net, hv_bus, trafotype=\"2W\"):\n",
    "    cb = pp.create_bus(net, vn_kv=0.4)\n",
    "    pp.create_load(net, cb, 0.2, 0.05)\n",
    "    \n",
    "    if trafotype==\"3W\":\n",
    "        cbm = pp.create_bus(net, vn_kv=0.9)\n",
    "        pp.create_load(net, cbm, 0.1, 0.03)\n",
    "        pp.create_transformer3w_from_parameters(net, hv_bus=hv_bus, mv_bus=cbm, lv_bus=cb, \n",
    "                                                vn_hv_kv=20., vn_mv_kv=0.9, vn_lv_kv=0.45, sn_hv_mva=0.6, \n",
    "                                                sn_mv_mva=0.5, sn_lv_mva=0.4, vk_hv_percent=1., \n",
    "                                                vk_mv_percent=1., vk_lv_percent=1., vkr_hv_percent=0.3, \n",
    "                                                vkr_mv_percent=0.3, vkr_lv_percent=0.3, pfe_kw=0.2, \n",
    "                                                i0_percent=0.3, tap_neutral=0., tap_pos=2, \n",
    "                                                tap_step_percent=1., tap_min=-2, tap_max=2)\n",
    "    else:\n",
    "        pp.create_transformer(net, hv_bus=hv_bus, lv_bus=cb, std_type=\"0.25 MVA 20/0.4 kV\", tap_pos=2)\n",
    "                \n",
    "\n",
    "def create_net():\n",
    "    net = pp.create_empty_network()\n",
    "    vn_kv = 20\n",
    "    b1 = pp.create_bus(net, vn_kv=vn_kv)\n",
    "    pp.create_ext_grid(net, b1, vm_pu=1.01)\n",
    "    b2 = pp.create_bus(net, vn_kv=vn_kv)\n",
    "    l1 = pp.create_line_from_parameters(net, b1, b2, 12.2, r_ohm_per_km=0.08, x_ohm_per_km=0.12,\n",
    "                                        c_nf_per_km=300, max_i_ka=.2, df=.8)\n",
    "    for i in range(2):\n",
    "        add_trafo_connection(net, b2)\n",
    "        \n",
    "    return net"
   ]
  },
  {
   "cell_type": "code",
   "execution_count": null,
   "metadata": {},
   "outputs": [],
   "source": [
    "net = create_net()"
   ]
  },
  {
   "cell_type": "markdown",
   "metadata": {},
   "source": [
    "We can either create the characteristics by creating the objects for characteristics and setting their index to the respective columns. Alternatively, we can use a convenience function to create set up the characteristics for vk_percent and vkr_percent. The function can be applied to a single index or for multiple transformers at a time. The imput parameters must have a correct shape:"
   ]
  },
  {
   "cell_type": "code",
   "execution_count": null,
   "metadata": {},
   "outputs": [],
   "source": [
    "pp.control.create_trafo_characteristics(net, 'trafo', 0, 'vk_percent', \n",
    "                                        [-2, -1, 0, 1, 2], [5, 5.2, 6, 6.8, 7])  # single mode\n",
    "pp.control.create_trafo_characteristics(net, 'trafo', [0], 'vkr_percent', \n",
    "                                        [[-2, -1, 0, 1, 2]], [[1.3, 1.4, 1.44, 1.5, 1.6]])  # multiple indices"
   ]
  },
  {
   "cell_type": "markdown",
   "metadata": {},
   "source": [
    "The characteristic set in the convenience function is the SplineCharacteristic object that relies on quadratic spline interpolation with interp1d from SciPy. Let us check the characteristic:"
   ]
  },
  {
   "cell_type": "code",
   "execution_count": null,
   "metadata": {},
   "outputs": [],
   "source": [
    "pp.control.plot_characteristic(net.characteristic.object.at[0], -2, 2, \n",
    "                               xlabel='Tap position \"tap_pos\"', ylabel='Value of \"vk_percent\"')"
   ]
  },
  {
   "cell_type": "code",
   "execution_count": null,
   "metadata": {},
   "outputs": [],
   "source": [
    "pp.control.plot_characteristic(net.characteristic.object.at[1], -2, 2,\n",
    "                               xlabel='Tap position \"tap_pos\"', ylabel='Value of \"vkr_percent\"')"
   ]
  },
  {
   "cell_type": "code",
   "execution_count": null,
   "metadata": {},
   "outputs": [],
   "source": [
    "pp.runpp(net)"
   ]
  },
  {
   "cell_type": "markdown",
   "metadata": {},
   "source": [
    "Let us verify that the adjusted values were considered in the calculation:"
   ]
  },
  {
   "cell_type": "code",
   "execution_count": null,
   "metadata": {},
   "outputs": [],
   "source": [
    "net.res_bus.loc[[2,3]]"
   ]
  },
  {
   "cell_type": "markdown",
   "metadata": {},
   "source": [
    "We can see that the voltage values are different, even though the connections are identical. Now let us compare the computation time:"
   ]
  },
  {
   "cell_type": "code",
   "execution_count": null,
   "metadata": {},
   "outputs": [],
   "source": [
    "net2 = create_net()"
   ]
  },
  {
   "cell_type": "code",
   "execution_count": null,
   "metadata": {},
   "outputs": [],
   "source": [
    "%timeit pp.runpp(net2)"
   ]
  },
  {
   "cell_type": "code",
   "execution_count": null,
   "metadata": {},
   "outputs": [],
   "source": [
    "%timeit pp.runpp(net)"
   ]
  },
  {
   "cell_type": "markdown",
   "metadata": {},
   "source": [
    "The calculation with tap dependent impedance is somewhat slower."
   ]
  },
  {
   "cell_type": "markdown",
   "metadata": {},
   "source": [
    "Now, let us compare the performance of the controller for reference"
   ]
  },
  {
   "cell_type": "code",
   "execution_count": null,
   "metadata": {},
   "outputs": [],
   "source": [
    "net3 = create_net()\n",
    "pp.control.SplineCharacteristic(net3, [-2, -1, 0, 1, 2], [5, 5.2, 6, 6.8, 7])\n",
    "pp.control.SplineCharacteristic(net3, [-2, -1, 0, 1, 2], [1.3, 1.4, 1.44, 1.5, 1.6])\n",
    "pp.control.TapDependentImpedance(net3, [0], 0, output_variable=\"vk_percent\")\n",
    "pp.control.TapDependentImpedance(net3, [0], 1, output_variable=\"vkr_percent\");"
   ]
  },
  {
   "cell_type": "code",
   "execution_count": null,
   "metadata": {},
   "outputs": [],
   "source": [
    "%timeit pp.runpp(net3, run_control=True)"
   ]
  },
  {
   "cell_type": "markdown",
   "metadata": {},
   "source": [
    "The computational time is substantially higher!"
   ]
  },
  {
   "cell_type": "markdown",
   "metadata": {},
   "source": [
    "The results from using the characteristics in pandapower directly and via controllers are identical:"
   ]
  },
  {
   "cell_type": "code",
   "execution_count": null,
   "metadata": {},
   "outputs": [],
   "source": [
    "net3.res_bus.loc[[2,3]]"
   ]
  },
  {
   "cell_type": "code",
   "execution_count": null,
   "metadata": {},
   "outputs": [],
   "source": [
    "assert np.allclose(net.res_bus.vm_pu, net3.res_bus.vm_pu, atol=1e-6, rtol=0)\n",
    "assert np.allclose(net.res_bus.va_degree, net3.res_bus.va_degree, atol=1e-6, rtol=0)"
   ]
  },
  {
   "cell_type": "markdown",
   "metadata": {},
   "source": [
    "# 3-Winding Transformers"
   ]
  },
  {
   "cell_type": "code",
   "execution_count": null,
   "metadata": {},
   "outputs": [],
   "source": [
    "net4 = create_net()\n",
    "net5 = create_net()\n",
    "for i in range(2):\n",
    "    add_trafo_connection(net4, net4.trafo.at[0, 'hv_bus'], \"3W\")\n",
    "    add_trafo_connection(net5, net5.trafo.at[0, 'hv_bus'], \"3W\")"
   ]
  },
  {
   "cell_type": "code",
   "execution_count": null,
   "metadata": {},
   "outputs": [],
   "source": [
    "pp.control.create_trafo_characteristics(net4, 'trafo3w', [0], 'vk_hv_percent', \n",
    "                                        [[-2, -1, 0, 1, 2]], [[0.85, 0.9, 1, 1.1, 1.15]])\n",
    "\n",
    "pp.control.create_trafo_characteristics(net4, 'trafo3w', [0], 'vkr_hv_percent', \n",
    "                                        [[-2, -1, 0, 1, 2]], [[0.27, 0.28, 0.3, 0.32, 0.33]])\n",
    "\n",
    "pp.control.create_trafo_characteristics(net4, 'trafo3w', [0], 'vk_mv_percent', \n",
    "                                        [[-2, -1, 0, 1, 2]], [[0.85, 0.9, 1, 1.1, 1.15]])\n",
    "\n",
    "pp.control.create_trafo_characteristics(net4, 'trafo3w', [0], 'vkr_mv_percent', \n",
    "                                        [[-2, -1, 0, 1, 2]], [[0.27, 0.28, 0.3, 0.32, 0.33]])\n",
    "\n",
    "pp.control.create_trafo_characteristics(net4, 'trafo3w', [0], 'vk_lv_percent', \n",
    "                                        [[-2, -1, 0, 1, 2]], [[0.85, 0.9, 1, 1.1, 1.15]])\n",
    "\n",
    "pp.control.create_trafo_characteristics(net4, 'trafo3w', [0], 'vkr_lv_percent', \n",
    "                                        [[-2, -1, 0, 1, 2]], [[0.27, 0.28, 0.3, 0.32, 0.33]])\n",
    "\n",
    "net4.characteristic"
   ]
  },
  {
   "cell_type": "code",
   "execution_count": null,
   "metadata": {},
   "outputs": [],
   "source": [
    "pp.control.SplineCharacteristic(net5, [-2, -1, 0, 1, 2], [0.85, 0.9, 1, 1.1, 1.15])\n",
    "pp.control.SplineCharacteristic(net5, [-2, -1, 0, 1, 2], [0.27, 0.28, 0.3, 0.32, 0.33])"
   ]
  },
  {
   "cell_type": "code",
   "execution_count": null,
   "metadata": {},
   "outputs": [],
   "source": [
    "pp.control.TapDependentImpedance(net5, [0], 0, output_variable=\"vk_hv_percent\", trafotable=\"trafo3w\")\n",
    "pp.control.TapDependentImpedance(net5, [0], 1, output_variable=\"vkr_hv_percent\", trafotable=\"trafo3w\")\n",
    "pp.control.TapDependentImpedance(net5, [0], 0, output_variable=\"vk_mv_percent\", trafotable=\"trafo3w\")\n",
    "pp.control.TapDependentImpedance(net5, [0], 1, output_variable=\"vkr_mv_percent\", trafotable=\"trafo3w\")\n",
    "pp.control.TapDependentImpedance(net5, [0], 0, output_variable=\"vk_lv_percent\", trafotable=\"trafo3w\")\n",
    "pp.control.TapDependentImpedance(net5, [0], 1, output_variable=\"vkr_lv_percent\", trafotable=\"trafo3w\");"
   ]
  },
  {
   "cell_type": "code",
   "execution_count": null,
   "metadata": {},
   "outputs": [],
   "source": [
    "%timeit pp.runpp(net4)"
   ]
  },
  {
   "cell_type": "code",
   "execution_count": null,
   "metadata": {},
   "outputs": [],
   "source": [
    "%timeit pp.runpp(net5, run_control=True)"
   ]
  },
  {
   "cell_type": "code",
   "execution_count": null,
   "metadata": {},
   "outputs": [],
   "source": [
    "assert np.allclose(net4.res_bus.vm_pu, net5.res_bus.vm_pu, atol=1e-6, rtol=0)\n",
    "assert np.allclose(net4.res_bus.va_degree, net5.res_bus.va_degree, atol=1e-6, rtol=0)\n",
    "pd.merge(net4.res_bus[[\"vm_pu\", \"va_degree\"]], net5.res_bus[[\"vm_pu\", \"va_degree\"]], \n",
    "         left_index=True, right_index=True)"
   ]
  },
  {
   "cell_type": "markdown",
   "metadata": {},
   "source": [
    "Also in the case of the 3-winding transformers, the results for direct calculation in pandapower and in controllers match."
   ]
  },
  {
   "cell_type": "markdown",
   "metadata": {},
   "source": [
    "# Undefined characteristics"
   ]
  },
  {
   "cell_type": "markdown",
   "metadata": {},
   "source": [
    "If some transformers have characteristics that do not define all of the columns, the behavior is to ignore the missing characteristic. If tap_dependent_impedance is set to True, but all the characteristics are missing, an error is raised."
   ]
  },
  {
   "cell_type": "code",
   "execution_count": null,
   "metadata": {},
   "outputs": [],
   "source": [
    "net6 = create_net()\n",
    "pp.control.create_trafo_characteristics(net6, 'trafo', [0], 'vk_percent', \n",
    "                                        [[-2, -1, 0, 1, 2]], [[5, 5.2, 6, 6.8, 7]])\n",
    "pp.control.create_trafo_characteristics(net6, 'trafo', [0], 'vkr_percent', \n",
    "                                        [[-2, -1, 0, 1, 2]], [[1.3, 1.4, 1.44, 1.5, 1.6]])\n",
    "pp.control.create_trafo_characteristics(net6, 'trafo', [1], 'vk_percent', \n",
    "                                        [[-2, -1, 0, 1, 2]], [[5, 5.2, 6, 6.8, 7]])"
   ]
  },
  {
   "cell_type": "code",
   "execution_count": null,
   "metadata": {},
   "outputs": [],
   "source": [
    "net6.trafo"
   ]
  },
  {
   "cell_type": "code",
   "execution_count": null,
   "metadata": {},
   "outputs": [],
   "source": [
    "# does not raise an error\n",
    "pp.runpp(net6)"
   ]
  },
  {
   "cell_type": "code",
   "execution_count": null,
   "metadata": {},
   "outputs": [],
   "source": [
    "# this would raise an error:\n",
    "\n",
    "# net6.trafo.at[1, \"vk_percent_characteristic\"] = None\n",
    "# pp.runpp(net6)"
   ]
  },
  {
   "cell_type": "markdown",
   "metadata": {},
   "source": [
    "# Creating transformers with characteristics"
   ]
  },
  {
   "cell_type": "markdown",
   "metadata": {},
   "source": [
    "The functions to create transformers were updated to include the parameter tap_dependent_impedance and add the references to the characteristics."
   ]
  },
  {
   "cell_type": "code",
   "execution_count": null,
   "metadata": {},
   "outputs": [],
   "source": [
    "net_create = create_net()\n",
    "add_trafo_connection(net_create, net_create.trafo.at[0, 'hv_bus'], \"3W\")"
   ]
  },
  {
   "cell_type": "code",
   "execution_count": null,
   "metadata": {},
   "outputs": [],
   "source": [
    "net_create.trafo"
   ]
  },
  {
   "cell_type": "code",
   "execution_count": null,
   "metadata": {},
   "outputs": [],
   "source": [
    "c = pp.control.SplineCharacteristic(net_create, [-2, -1, 0, 1, 2], [5, 5.2, 6, 6.8, 7])\n",
    "pp.create_transformer(net_create, hv_bus=net_create.trafo.at[0, 'hv_bus'], \n",
    "                      lv_bus=net_create.trafo.at[0, 'lv_bus'], std_type=\"0.25 MVA 20/0.4 kV\", tap_pos=2, \n",
    "                      tap_dependent_impedance=True, vk_percent_characteristic=0)"
   ]
  },
  {
   "cell_type": "code",
   "execution_count": null,
   "metadata": {},
   "outputs": [],
   "source": [
    "net_create.trafo"
   ]
  },
  {
   "cell_type": "code",
   "execution_count": null,
   "metadata": {},
   "outputs": [],
   "source": [
    "pp.runpp(net_create)"
   ]
  },
  {
   "cell_type": "markdown",
   "metadata": {},
   "source": [
    "# File I/O"
   ]
  },
  {
   "cell_type": "markdown",
   "metadata": {},
   "source": [
    "The file I/O for characteristics is now implemented via adding the characteristic table:"
   ]
  },
  {
   "cell_type": "code",
   "execution_count": null,
   "metadata": {},
   "outputs": [],
   "source": [
    "net2 = pp.from_json_string(pp.to_json(net))\n",
    "net2.characteristic"
   ]
  },
  {
   "cell_type": "markdown",
   "metadata": {},
   "source": [
    "De-serialization is working:"
   ]
  },
  {
   "cell_type": "code",
   "execution_count": null,
   "metadata": {},
   "outputs": [],
   "source": [
    "pp.control.plot_characteristic(net2.characteristic.object.at[0], -2, 2,\n",
    "                               xlabel='Tap position \"tap_pos\"', ylabel='Value of \"vk_percent\"')"
   ]
  },
  {
   "cell_type": "markdown",
   "metadata": {},
   "source": [
    "# Diagnostic"
   ]
  },
  {
   "cell_type": "markdown",
   "metadata": {},
   "source": [
    "The diagnostic function for transformer tap characteristics checks the following:\n",
    " \n",
    "* Are there characteristics for tap dependent impedance?\n",
    "* Are any columns missing?\n",
    "* Are there characteristics that are referenced in the trafo or trafo3w table, but are missing in net.characteristic?\n",
    "* Do the characteristic values for the neutral tap position deviate from the element table parameter?\n",
    "\n",
    "The results are displayed to the user with the help of logging statements."
   ]
  },
  {
   "cell_type": "code",
   "execution_count": null,
   "metadata": {},
   "outputs": [],
   "source": [
    "net.trafo"
   ]
  },
  {
   "cell_type": "code",
   "execution_count": null,
   "metadata": {},
   "outputs": [],
   "source": [
    "pp.control.trafo_characteristics_diagnostic(net)"
   ]
  },
  {
   "cell_type": "code",
   "execution_count": null,
   "metadata": {},
   "outputs": [],
   "source": [
    "pp.control.trafo_characteristics_diagnostic(net6)"
   ]
  },
  {
   "cell_type": "code",
   "execution_count": null,
   "metadata": {},
   "outputs": [],
   "source": [
    "# let's make some invalid configurations\n",
    "# missing any characteristic\n",
    "pp.create_transformer(net, hv_bus=net.trafo.at[0, 'hv_bus'], \n",
    "                      lv_bus=net.trafo.at[0, 'lv_bus'], std_type=\"0.25 MVA 20/0.4 kV\", tap_pos=2, \n",
    "                      tap_dependent_impedance=True)\n",
    "net.trafo.at[0, \"vk_percent\"] += 1e-6\n",
    "add_trafo_connection(net, net.trafo.at[0, 'hv_bus'], \"3W\")\n",
    "# missing columns for characteristics\n",
    "net.trafo3w['tap_dependent_impedance'] = True\n",
    "\n",
    "display(net.trafo)\n",
    "display(net.trafo3w)\n",
    "\n",
    "# diagnostic\n",
    "pp.control.trafo_characteristics_diagnostic(net)"
   ]
  }
 ],
 "metadata": {
  "kernelspec": {
   "display_name": "Python 3",
   "language": "python",
   "name": "python3"
  },
  "language_info": {
   "codemirror_mode": {
    "name": "ipython",
    "version": 3
   },
   "file_extension": ".py",
   "mimetype": "text/x-python",
   "name": "python",
   "nbconvert_exporter": "python",
   "pygments_lexer": "ipython3",
   "version": "3.9.12"
  }
 },
 "nbformat": 4,
 "nbformat_minor": 4
}
