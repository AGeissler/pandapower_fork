{
 "cells": [
  {
   "cell_type": "markdown",
   "metadata": {
    "pycharm": {
     "name": "#%% md\n"
    }
   },
   "source": [
    "# Optimal Transmission Switching (OTS) (OST) with PowerModels.jl\n",
    "This tutorial describes how to run the OST feature of PowerModels.jl together with pandapower.\n",
    "The OST allows to optimize the \"switching state\" of a (meshed) grid by taking lines out of service. This not exactly the\n",
    "same as optimizing the switching state provided by pandapower. In the OST case **every in service branch element** \n",
    "in the grid is taken into account in the optimization. This includes all lines and transformers. The optimization\n",
    "then chooses some lines/transformers to be taken out of service in order to minimize fuel cost (see objective on PM website).\n",
    "\n",
    "To summerize this means:\n",
    "* the switching state of the pandapower switches are **not** changed\n",
    "* all lines / transformer in service states are variables of the optimization\n",
    "* output of the optimization is a changed \"in_service\" state in the res_line / res_trafo... tables.   \n",
    "\n",
    "For more details on PowerModels OST see:\n",
    "\n",
    "https://lanl-ansi.github.io/PowerModels.jl/stable/specifications/#Optimal-Transmission-Switching-(OTS)-1 \n"
   ]
  },
  {
   "cell_type": "markdown",
   "metadata": {},
   "source": [
    "# Installation\n",
    "Apart from the Julia, PowerModels, Ipopt and JuMP Installation itself (see the opf_powermodels.ipynb), you need to install\n",
    "some more libraries.\n",
    "  \n",
    "The OST problem is a mixed-integer non-linear problem, which is hard to solve. To be able to solve \n",
    "these kind of problems, you need a suitable solver. Either you use commercial ones (like Knitro) or the open-source\n",
    "Juniper solver (which is partly developed by Carleton Coffrin from PowerModels itself):\n",
    "\n",
    "* Juniper: https://github.com/lanl-ansi/Juniper.jl\n",
    "\n",
    "Additionally CBC is needed:\n",
    "\n",
    "* CBC: https://projects.coin-or.org/Cbc\n",
    "* CBC Julia interface: https://github.com/JuliaOpt/Cbc.jl\n",
    "\n",
    "Note that Juniper is a heuristic based solver. Another non-heuristic option would be to use Alpine.jl:\n",
    "* Alpine: https://github.com/lanl-ansi/Alpine.jl\n"
   ]
  },
  {
   "cell_type": "markdown",
   "metadata": {},
   "source": [
    "# Run the OTS\n",
    "To put it simple, the goal of the optimization is to find a changed in_service state for the branch elements \n",
    "(lines, transformers). Note that the OPF calculation also takes into account the voltage and line loading limits.   \n",
    "\n",
    "In order to start the optimization, we follow two steps:\n",
    "1. Load the pandapower grid data\n",
    "2. Start the optimization\n"
   ]
  },
  {
   "cell_type": "code",
   "execution_count": 1,
   "metadata": {},
   "outputs": [
    {
     "name": "stdout",
     "output_type": "stream",
     "text": [
      "Line status prior to optimization is:\n",
      "[ True  True  True  True  True  True]\n"
     ]
    },
    {
     "name": "stderr",
     "output_type": "stream",
     "text": [
      "OPF did not converge!\n"
     ]
    },
    {
     "ename": "OPFNotConverged",
     "evalue": "PowerModels.jl OPF not converged",
     "output_type": "error",
     "traceback": [
      "\u001b[1;31m---------------------------------------------------------------------------\u001b[0m",
      "\u001b[1;31mOPFNotConverged\u001b[0m                           Traceback (most recent call last)",
      "Input \u001b[1;32mIn [1]\u001b[0m, in \u001b[0;36m<cell line: 11>\u001b[1;34m()\u001b[0m\n\u001b[0;32m      8\u001b[0m \u001b[38;5;28mprint\u001b[39m(line_status\u001b[38;5;241m.\u001b[39mastype(\u001b[38;5;28mbool\u001b[39m))\n\u001b[0;32m     10\u001b[0m \u001b[38;5;66;03m# runs the powermodels.jl switch optimization\u001b[39;00m\n\u001b[1;32m---> 11\u001b[0m \u001b[43mpp\u001b[49m\u001b[38;5;241;43m.\u001b[39;49m\u001b[43mrunpm_ots\u001b[49m\u001b[43m(\u001b[49m\u001b[43mnet\u001b[49m\u001b[43m)\u001b[49m\n\u001b[0;32m     12\u001b[0m \u001b[38;5;66;03m# note that the result is taken from the res_line instead of the line table. The input DataFrame is not changed \u001b[39;00m\n\u001b[0;32m     13\u001b[0m line_status \u001b[38;5;241m=\u001b[39m net[\u001b[38;5;124m\"\u001b[39m\u001b[38;5;124mres_line\u001b[39m\u001b[38;5;124m\"\u001b[39m]\u001b[38;5;241m.\u001b[39mloc[:, \u001b[38;5;124m\"\u001b[39m\u001b[38;5;124min_service\u001b[39m\u001b[38;5;124m\"\u001b[39m]\u001b[38;5;241m.\u001b[39mvalues\n",
      "File \u001b[1;32mc:\\users\\mmilovic\\documents\\python scripts\\pandapower\\pandapower\\runpm.py:197\u001b[0m, in \u001b[0;36mrunpm_ots\u001b[1;34m(net, julia_file, pp_to_pm_callback, calculate_voltage_angles, trafo_model, delta, trafo3w_losses, check_connectivity, pm_model, pm_solver, pm_nl_solver, pm_mip_solver, correct_pm_network_data, silence, pm_time_limits, pm_log_level, delete_buffer_file, pm_file_path, opf_flow_lim, pm_tol, pdm_dev_mode, **kwargs)\u001b[0m\n\u001b[0;32m    186\u001b[0m _add_ppc_options(net, calculate_voltage_angles\u001b[38;5;241m=\u001b[39mcalculate_voltage_angles,\n\u001b[0;32m    187\u001b[0m                  trafo_model\u001b[38;5;241m=\u001b[39mtrafo_model, check_connectivity\u001b[38;5;241m=\u001b[39mcheck_connectivity,\n\u001b[0;32m    188\u001b[0m                  mode\u001b[38;5;241m=\u001b[39m\u001b[38;5;124m\"\u001b[39m\u001b[38;5;124mopf\u001b[39m\u001b[38;5;124m\"\u001b[39m, switch_rx_ratio\u001b[38;5;241m=\u001b[39m\u001b[38;5;241m2\u001b[39m, init_vm_pu\u001b[38;5;241m=\u001b[39m\u001b[38;5;124m\"\u001b[39m\u001b[38;5;124mflat\u001b[39m\u001b[38;5;124m\"\u001b[39m, init_va_degree\u001b[38;5;241m=\u001b[39m\u001b[38;5;124m\"\u001b[39m\u001b[38;5;124mflat\u001b[39m\u001b[38;5;124m\"\u001b[39m,\n\u001b[0;32m    189\u001b[0m                  enforce_q_lims\u001b[38;5;241m=\u001b[39m\u001b[38;5;28;01mTrue\u001b[39;00m, recycle\u001b[38;5;241m=\u001b[39m\u001b[38;5;28mdict\u001b[39m(_is_elements\u001b[38;5;241m=\u001b[39m\u001b[38;5;28;01mFalse\u001b[39;00m, ppc\u001b[38;5;241m=\u001b[39m\u001b[38;5;28;01mFalse\u001b[39;00m, Ybus\u001b[38;5;241m=\u001b[39m\u001b[38;5;28;01mFalse\u001b[39;00m),\n\u001b[0;32m    190\u001b[0m                  voltage_depend_loads\u001b[38;5;241m=\u001b[39m\u001b[38;5;28;01mFalse\u001b[39;00m, delta\u001b[38;5;241m=\u001b[39mdelta, trafo3w_losses\u001b[38;5;241m=\u001b[39mtrafo3w_losses)\n\u001b[0;32m    191\u001b[0m _add_opf_options(net, trafo_loading\u001b[38;5;241m=\u001b[39m\u001b[38;5;124m'\u001b[39m\u001b[38;5;124mpower\u001b[39m\u001b[38;5;124m'\u001b[39m, ac\u001b[38;5;241m=\u001b[39mac, init\u001b[38;5;241m=\u001b[39m\u001b[38;5;124m\"\u001b[39m\u001b[38;5;124mflat\u001b[39m\u001b[38;5;124m\"\u001b[39m, numba\u001b[38;5;241m=\u001b[39m\u001b[38;5;28;01mTrue\u001b[39;00m,\n\u001b[0;32m    192\u001b[0m                  pp_to_pm_callback\u001b[38;5;241m=\u001b[39mpp_to_pm_callback, julia_file\u001b[38;5;241m=\u001b[39m\u001b[38;5;124m\"\u001b[39m\u001b[38;5;124mrun_powermodels_ots\u001b[39m\u001b[38;5;124m\"\u001b[39m, pm_model\u001b[38;5;241m=\u001b[39mpm_model, pm_solver\u001b[38;5;241m=\u001b[39mpm_solver,\n\u001b[0;32m    193\u001b[0m                  correct_pm_network_data\u001b[38;5;241m=\u001b[39mcorrect_pm_network_data, silence\u001b[38;5;241m=\u001b[39msilence, pm_mip_solver\u001b[38;5;241m=\u001b[39mpm_mip_solver,\n\u001b[0;32m    194\u001b[0m                  pm_nl_solver\u001b[38;5;241m=\u001b[39mpm_nl_solver, pm_time_limits\u001b[38;5;241m=\u001b[39mpm_time_limits, pm_log_level\u001b[38;5;241m=\u001b[39mpm_log_level,\n\u001b[0;32m    195\u001b[0m                  opf_flow_lim\u001b[38;5;241m=\u001b[39m\u001b[38;5;124m\"\u001b[39m\u001b[38;5;124mS\u001b[39m\u001b[38;5;124m\"\u001b[39m, pm_tol\u001b[38;5;241m=\u001b[39mpm_tol)\n\u001b[1;32m--> 197\u001b[0m \u001b[43m_runpm\u001b[49m\u001b[43m(\u001b[49m\u001b[43mnet\u001b[49m\u001b[43m,\u001b[49m\u001b[43m \u001b[49m\u001b[43mdelete_buffer_file\u001b[49m\u001b[38;5;241;43m=\u001b[39;49m\u001b[43mdelete_buffer_file\u001b[49m\u001b[43m,\u001b[49m\u001b[43m \u001b[49m\u001b[43mpm_file_path\u001b[49m\u001b[38;5;241;43m=\u001b[39;49m\u001b[43mpm_file_path\u001b[49m\u001b[43m,\u001b[49m\u001b[43m \u001b[49m\u001b[43mpdm_dev_mode\u001b[49m\u001b[38;5;241;43m=\u001b[39;49m\u001b[43mpdm_dev_mode\u001b[49m\u001b[43m)\u001b[49m\n\u001b[0;32m    198\u001b[0m read_ots_results(net)\n",
      "File \u001b[1;32mc:\\users\\mmilovic\\documents\\python scripts\\pandapower\\pandapower\\opf\\run_powermodels.py:50\u001b[0m, in \u001b[0;36m_runpm\u001b[1;34m(net, delete_buffer_file, pm_file_path, pdm_dev_mode, **kwargs)\u001b[0m\n\u001b[0;32m     48\u001b[0m         os\u001b[38;5;241m.\u001b[39mremove(buffer_file)\n\u001b[0;32m     49\u001b[0m         logger\u001b[38;5;241m.\u001b[39mdebug(\u001b[38;5;124m\"\u001b[39m\u001b[38;5;124mthe json file for converted net is deleted from \u001b[39m\u001b[38;5;132;01m%s\u001b[39;00m\u001b[38;5;124m\"\u001b[39m \u001b[38;5;241m%\u001b[39m buffer_file)\n\u001b[1;32m---> 50\u001b[0m     \u001b[38;5;28;01mraise\u001b[39;00m e\n\u001b[0;32m     51\u001b[0m \u001b[38;5;28;01mexcept\u001b[39;00m \u001b[38;5;167;01mException\u001b[39;00m \u001b[38;5;28;01mas\u001b[39;00m e:\n\u001b[0;32m     52\u001b[0m     \u001b[38;5;28;01mraise\u001b[39;00m e\n",
      "File \u001b[1;32mc:\\users\\mmilovic\\documents\\python scripts\\pandapower\\pandapower\\opf\\run_powermodels.py:41\u001b[0m, in \u001b[0;36m_runpm\u001b[1;34m(net, delete_buffer_file, pm_file_path, pdm_dev_mode, **kwargs)\u001b[0m\n\u001b[0;32m     39\u001b[0m \u001b[38;5;66;03m# read results and write back to net\u001b[39;00m\n\u001b[0;32m     40\u001b[0m \u001b[38;5;28;01mtry\u001b[39;00m:\n\u001b[1;32m---> 41\u001b[0m     \u001b[43mread_pm_results_to_net\u001b[49m\u001b[43m(\u001b[49m\u001b[43mnet\u001b[49m\u001b[43m,\u001b[49m\u001b[43m \u001b[49m\u001b[43mppc\u001b[49m\u001b[43m,\u001b[49m\u001b[43m \u001b[49m\u001b[43mppci\u001b[49m\u001b[43m,\u001b[49m\u001b[43m \u001b[49m\u001b[43mresult_pm\u001b[49m\u001b[43m)\u001b[49m\n\u001b[0;32m     42\u001b[0m     \u001b[38;5;28;01mif\u001b[39;00m pm_file_path \u001b[38;5;129;01mis\u001b[39;00m \u001b[38;5;28;01mNone\u001b[39;00m \u001b[38;5;129;01mand\u001b[39;00m delete_buffer_file:\n\u001b[0;32m     43\u001b[0m         \u001b[38;5;66;03m# delete buffer file after calculation\u001b[39;00m\n\u001b[0;32m     44\u001b[0m         os\u001b[38;5;241m.\u001b[39mremove(buffer_file)\n",
      "File \u001b[1;32mc:\\users\\mmilovic\\documents\\python scripts\\pandapower\\pandapower\\converter\\powermodels\\from_pm.py:48\u001b[0m, in \u001b[0;36mread_pm_results_to_net\u001b[1;34m(net, ppc, ppci, result_pm)\u001b[0m\n\u001b[0;32m     46\u001b[0m _clean_up(net, res\u001b[38;5;241m=\u001b[39m\u001b[38;5;28;01mFalse\u001b[39;00m)\n\u001b[0;32m     47\u001b[0m logger\u001b[38;5;241m.\u001b[39mwarning(\u001b[38;5;124m\"\u001b[39m\u001b[38;5;124mOPF did not converge!\u001b[39m\u001b[38;5;124m\"\u001b[39m)\n\u001b[1;32m---> 48\u001b[0m \u001b[38;5;28;01mraise\u001b[39;00m OPFNotConverged(\u001b[38;5;124m\"\u001b[39m\u001b[38;5;124mPowerModels.jl OPF not converged\u001b[39m\u001b[38;5;124m\"\u001b[39m)\n",
      "\u001b[1;31mOPFNotConverged\u001b[0m: PowerModels.jl OPF not converged"
     ]
    }
   ],
   "source": [
    "import pandapower.networks as nw\n",
    "import pandapower as pp\n",
    "\n",
    "# here we use the simple case5 grid\n",
    "net = nw.case5()\n",
    "line_status = net[\"line\"].loc[:, \"in_service\"].values\n",
    "print(\"Line status prior to optimization is:\")\n",
    "print(line_status.astype(bool))\n",
    "\n",
    "# runs the powermodels.jl switch optimization\n",
    "pp.runpm_ots(net)\n",
    "# note that the result is taken from the res_line instead of the line table. The input DataFrame is not changed \n",
    "line_status = net[\"res_line\"].loc[:, \"in_service\"].values\n",
    "print(\"Line status after the optimization is:\")\n",
    "print(line_status.astype(bool))\n",
    "\n"
   ]
  },
  {
   "cell_type": "markdown",
   "metadata": {},
   "source": [
    "# What to do with the result\n",
    "The optimized line / trafo status can be found in the result DataFrames, e.g. net[\"res_line\"]. The result ist **not**\n",
    "automatically written to the inputs (\"line\" DataFrame). To do this you can use:\n"
   ]
  },
  {
   "cell_type": "code",
   "execution_count": null,
   "metadata": {
    "pycharm": {
     "name": "#%%\n"
    }
   },
   "outputs": [],
   "source": [
    "import pandapower as pp    \n",
    "\n",
    "# Change the input data\n",
    "net[\"line\"].loc[:, \"in_service\"] = net[\"res_line\"].loc[:, \"in_service\"].values\n",
    "net[\"trafo\"].loc[:, \"in_service\"] = net[\"res_trafo\"].loc[:, \"in_service\"].values\n",
    "\n",
    "# optional: run a power flow calculation with the changed in service status\n",
    "pp.runpp(net)"
   ]
  },
  {
   "cell_type": "markdown",
   "metadata": {},
   "source": [
    "If you have line-switches / trafo-switches at these lines/trafos you could also search for the switches connected to\n",
    "these elements (with the topology search) and change the switching state according to the in_service result. \n",
    "This should deliver identical results as changing the in service status of the element. \n",
    "However, this requires to have line switches at **both** ends of the line. If you just open\n",
    "the switch on one of the two sides, the power flow result is slightly different since the line loading of the\n",
    "line without any connected elements is calculated.\n",
    "\n"
   ]
  },
  {
   "cell_type": "markdown",
   "metadata": {},
   "source": [
    "# Notes\n",
    "Juniper is based on a heuristic, it does not necessarily find the global optimum. For this use another solver\n",
    "\n",
    "In the PowerModels OPF formulation, generator limits, voltage limits and loading limits are taken into account. \n",
    "This means you have to specify limits for all gens, ext_grids and controllable sgens / loads. Optionally costs for these can be defined. \n",
    "Also limits for line/trafo loadings and buse voltages are to be defined. The case5 grid has pre-defined limits set. \n",
    "In other cases you might get an error. Here is a code snippet:\n"
   ]
  },
  {
   "cell_type": "code",
   "execution_count": null,
   "metadata": {
    "pycharm": {
     "name": "#%%\n"
    }
   },
   "outputs": [],
   "source": [
    "def define_ext_grid_limits(net):\n",
    "    # define line loading and bus voltage limits\n",
    "    min_vm_pu = 0.95\n",
    "    max_vm_pu = 1.05\n",
    "\n",
    "    net[\"bus\"].loc[:, \"min_vm_pu\"] = min_vm_pu\n",
    "    net[\"bus\"].loc[:, \"max_vm_pu\"] = max_vm_pu\n",
    "\n",
    "    net[\"line\"].loc[:, \"max_loading_percent\"] = 100.\n",
    "    net[\"trafo\"].loc[:, \"max_loading_percent\"] = 100.\n",
    "    \n",
    "    # define limits\n",
    "    net[\"ext_grid\"].loc[:, \"min_p_mw\"] = -9999.\n",
    "    net[\"ext_grid\"].loc[:, \"max_p_mw\"] = 9999.\n",
    "    net[\"ext_grid\"].loc[:, \"min_q_mvar\"] = -9999.\n",
    "    net[\"ext_grid\"].loc[:, \"max_q_mvar\"] = 9999.\n",
    "    # define costs\n",
    "    for i in net.ext_grid.index:\n",
    "        pp.create_poly_cost(net, i, 'ext_grid', cp1_eur_per_mw=1) "
   ]
  }
 ],
 "metadata": {
  "kernelspec": {
   "display_name": "Python 3",
   "language": "python",
   "name": "python3"
  },
  "language_info": {
   "codemirror_mode": {
    "name": "ipython",
    "version": 3
   },
   "file_extension": ".py",
   "mimetype": "text/x-python",
   "name": "python",
   "nbconvert_exporter": "python",
   "pygments_lexer": "ipython3",
   "version": "3.9.12"
  },
  "pycharm": {
   "stem_cell": {
    "cell_type": "raw",
    "metadata": {
     "collapsed": false
    },
    "source": []
   }
  }
 },
 "nbformat": 4,
 "nbformat_minor": 1
}
