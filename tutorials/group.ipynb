{
 "cells": [
  {
   "cell_type": "markdown",
   "metadata": {},
   "source": [
    "# Group Module"
   ]
  },
  {
   "cell_type": "markdown",
   "metadata": {},
   "source": [
    "The Group module allows you to combine several elements of a pandapower net into one group. Various functions are available, which are then automatically applied to all elements in this group.\n",
    "This tutorial shows you how to define groups and how to make of some helpful simple group functions."
   ]
  },
  {
   "cell_type": "markdown",
   "metadata": {},
   "source": [
    "To analyse the group functionality we use the CIGRE MV net."
   ]
  },
  {
   "cell_type": "code",
   "execution_count": 1,
   "metadata": {},
   "outputs": [],
   "source": [
    "import numpy as np\n",
    "import pandapower as pp\n",
    "from pandapower.networks import create_cigre_network_mv\n",
    "\n",
    "net = create_cigre_network_mv(with_der=\"all\")\n",
    "net.switch[\"closed\"] = True"
   ]
  },
  {
   "cell_type": "markdown",
   "metadata": {},
   "source": [
    "## Define Groups\n",
    "As examples, we define two groups, one for all elements of the second feeder of the net and one to represent a virtual power plant with sgens, loads and a storage."
   ]
  },
  {
   "cell_type": "code",
   "execution_count": 2,
   "metadata": {},
   "outputs": [],
   "source": [
    "# define a Group of a Feeder 2\n",
    "feeder2buses = [12, 13, 14]\n",
    "feeder2_elms = pp.get_connected_elements_dict(net, feeder2buses)\n",
    "feeder2_elms[\"bus\"] = feeder2buses\n",
    "gr1_object = pp.Group(net, feeder2_elms, name=\"Feeder2\")\n",
    "\n",
    "# define a Group as virtual power plant\n",
    "vpp_elms = {\"storage\": 1, \"sgen\": [6, 8, 9, 10, 11, 12], \"load\": [5, 6]}\n",
    "gr2_object = pp.Group(net, vpp_elms, name=\"virtual power plant\")"
   ]
  },
  {
   "cell_type": "markdown",
   "metadata": {},
   "source": [
    "Now we can see that there are two entries in `net.group`."
   ]
  },
  {
   "cell_type": "code",
   "execution_count": 3,
   "metadata": {},
   "outputs": [
    {
     "name": "stdout",
     "output_type": "stream",
     "text": [
      "                  name object\n",
      "0              Feeder2  Group\n",
      "1  virtual power plant  Group\n"
     ]
    }
   ],
   "source": [
    "print(net.group)"
   ]
  },
  {
   "cell_type": "markdown",
   "metadata": {},
   "source": [
    "The definition of a group returns the group object. This object is stored in the `object` column of `net.group`. Here we can see, that these are realy the same:"
   ]
  },
  {
   "cell_type": "code",
   "execution_count": 4,
   "metadata": {},
   "outputs": [
    {
     "name": "stdout",
     "output_type": "stream",
     "text": [
      "True\n",
      "True\n"
     ]
    }
   ],
   "source": [
    "print(net.group.object.at[0] == gr1_object)\n",
    "# or:\n",
    "print(net.group.object.at[0].compare_group(gr1_object))"
   ]
  },
  {
   "cell_type": "markdown",
   "metadata": {},
   "source": [
    "A group basically is a dict of stored indices of the elements which are concluded by the group."
   ]
  },
  {
   "cell_type": "code",
   "execution_count": 5,
   "metadata": {},
   "outputs": [
    {
     "name": "stdout",
     "output_type": "stream",
     "text": [
      "{'trafo': Int64Index([1], dtype='int64'), 'load': Int64Index([8, 9, 15, 16, 17], dtype='int64'), 'line': Int64Index([10, 11, 14], dtype='int64'), 'bus': Int64Index([12, 13, 14], dtype='int64'), 'switch': Int64Index([5], dtype='int64')}\n"
     ]
    }
   ],
   "source": [
    "print(gr1_object.elms_dict)"
   ]
  },
  {
   "cell_type": "markdown",
   "metadata": {},
   "source": [
    "## Set `elm_col`\n",
    "However, the user can manipulate the indices of the net element dataframes and also some pandapower functions, such as `pp.create_continuous_elements_index(net)`, changes the indices of the elements. As a result, by means of the indices, a group can no longer find its members.\n",
    "For that reason, groups can also detect their members by a column of the elements dataframes. That can be applied directly at the group definition or later using `set_elm_col()`. Then we can see, that the group does no longer store the indices but the values of the set element column:"
   ]
  },
  {
   "cell_type": "code",
   "execution_count": 6,
   "metadata": {},
   "outputs": [
    {
     "name": "stdout",
     "output_type": "stream",
     "text": [
      "Initial stored elms_dict\n",
      "\n",
      "Now elms_dict stores the names of the members:\n",
      "\n",
      "{'storage': Index(['Battery 2'], dtype='object', name='name'), 'sgen': Index(['PV 10', 'WKA 7', 'Residential fuel cell 1', 'CHP diesel 1',\n",
      "       'Fuel cell 1', 'Residential fuel cell 2'],\n",
      "      dtype='object', name='name'), 'load': Index(['Load R8', 'Load R10'], dtype='object', name='name')}\n"
     ]
    }
   ],
   "source": [
    "print(\"Initial stored elms_dict\")\n",
    "gr2_object.set_elm_col(net, \"name\")\n",
    "print(\"\\nNow elms_dict stores the names of the members:\\n\")\n",
    "print(gr2_object.elms_dict)"
   ]
  },
  {
   "cell_type": "markdown",
   "metadata": {},
   "source": [
    "As we can see, the second group now stores the names of the members and not indices. Using `get_idx()` you can nevertheless get the indices of the group members. You can see that these are still the same as given in the definition of the group above."
   ]
  },
  {
   "cell_type": "code",
   "execution_count": 7,
   "metadata": {},
   "outputs": [
    {
     "name": "stdout",
     "output_type": "stream",
     "text": [
      "Int64Index([8, 9, 15, 16, 17], dtype='int64')\n"
     ]
    }
   ],
   "source": [
    "print(gr1_object.get_idx(net, \"load\"))"
   ]
  },
  {
   "cell_type": "markdown",
   "metadata": {},
   "source": [
    "**Attention:** Be aware that `elm_col` only works fine if there are no duplicated values in `net[elm][elm_col]` for all `elm in group_object.elms_dict.keys()`!"
   ]
  },
  {
   "cell_type": "markdown",
   "metadata": {},
   "source": [
    "## Update Group\n",
    "The number of members per element can easily be accessed:"
   ]
  },
  {
   "cell_type": "code",
   "execution_count": 8,
   "metadata": {},
   "outputs": [
    {
     "name": "stdout",
     "output_type": "stream",
     "text": [
      "trafo     1\n",
      "load      5\n",
      "line      3\n",
      "bus       3\n",
      "switch    1\n",
      "dtype: int64\n"
     ]
    }
   ],
   "source": [
    "print(gr1_object.elm_counts())"
   ]
  },
  {
   "cell_type": "markdown",
   "metadata": {},
   "source": [
    "If the net has changed and some of the groups members are or could be removed, one can update the stored element lists of groups:"
   ]
  },
  {
   "cell_type": "code",
   "execution_count": 9,
   "metadata": {},
   "outputs": [
    {
     "name": "stderr",
     "output_type": "stream",
     "text": [
      "hp.misc.groups - INFO: In switch, the number of indices has been corrected from 1 to 0.\n"
     ]
    }
   ],
   "source": [
    "net.switch.drop([5], inplace=True)  # the net is changed\n",
    "gr1_object.update_elms_dict(net)  # the elms_dict of gr1_object applies to the changed net"
   ]
  },
  {
   "cell_type": "markdown",
   "metadata": {},
   "source": [
    "Now the counting of the members does not include the switch anymore:"
   ]
  },
  {
   "cell_type": "code",
   "execution_count": 10,
   "metadata": {},
   "outputs": [
    {
     "name": "stdout",
     "output_type": "stream",
     "text": [
      "trafo    1\n",
      "load     5\n",
      "line     3\n",
      "bus      3\n",
      "dtype: int64\n"
     ]
    }
   ],
   "source": [
    "print(gr1_object.elm_counts())"
   ]
  },
  {
   "cell_type": "markdown",
   "metadata": {},
   "source": [
    "## Set Values to all Group Members\n",
    "The following code block shows you how to set the value to all members of a group. A specific use case of the is to set all members in or out of service. For that reason, these got explicit function names."
   ]
  },
  {
   "cell_type": "code",
   "execution_count": 11,
   "metadata": {},
   "outputs": [
    {
     "name": "stdout",
     "output_type": "stream",
     "text": [
      "The load names:\n",
      "\n",
      "0                       Load R1\n",
      "1                       Load R3\n",
      "2                       Load R4\n",
      "3                       Load R5\n",
      "4                       Load R6\n",
      "5                       Load R8\n",
      "6                      Load R10\n",
      "7                      Load R11\n",
      "8     member of group 'Feeder2'\n",
      "9     member of group 'Feeder2'\n",
      "10                     Load CI1\n",
      "11                     Load CI3\n",
      "12                     Load CI7\n",
      "13                     Load CI9\n",
      "14                    Load CI10\n",
      "15    member of group 'Feeder2'\n",
      "16    member of group 'Feeder2'\n",
      "17    member of group 'Feeder2'\n",
      "Name: name, dtype: object\n",
      "\n",
      "The bus results with Feeder 2 out of service:\n",
      "\n",
      "       vm_pu  va_degree       p_mw    q_mvar\n",
      "0   1.030000   0.000000 -22.818564 -8.646534\n",
      "1   0.993935  -6.110560  19.839000  4.637136\n",
      "2   0.976713  -6.707834   0.000000  0.000000\n",
      "3   0.949406  -7.665482   0.481700  0.208882\n",
      "4   0.947294  -7.750513   0.411650  0.108182\n",
      "5   0.946493  -7.784148   1.264500  0.182329\n",
      "6   0.947350  -7.674175   0.518050  0.137354\n",
      "7   0.947704  -7.645199  -1.423500  0.047410\n",
      "8   0.947124  -7.719307   0.556850  0.147078\n",
      "9   0.946759  -7.729477   0.021750  0.355578\n",
      "10  0.946407  -7.773404   0.689300  0.161264\n",
      "11  0.946652  -7.770208   0.319800  0.082656\n",
      "12       NaN        NaN   0.000000  0.000000\n",
      "13       NaN        NaN   0.000000  0.000000\n",
      "14       NaN        NaN   0.000000  0.000000\n",
      "\n",
      "The bus results with Feeder 2 back in service:\n",
      "\n",
      "       vm_pu  va_degree      p_mw     q_mvar\n",
      "0   1.030000   0.000000 -43.40813 -15.655818\n",
      "1   0.996932  -5.726043  19.83900   4.637136\n",
      "2   0.986772  -6.003966   0.00000   0.000000\n",
      "3   0.970355  -6.429326   0.48170   0.208882\n",
      "4   0.968860  -6.482045   0.41165   0.108182\n",
      "5   0.968247  -6.505724   1.26450   0.182329\n",
      "6   0.969547  -6.377311   0.51805   0.137354\n",
      "7   0.969965  -6.346000  -1.42350   0.047410\n",
      "8   0.969896  -6.391227   0.55685   0.147078\n",
      "9   0.969338  -6.411158   0.02175   0.355578\n",
      "10  0.968510  -6.477714   0.68930   0.161264\n",
      "11  0.968542  -6.485215   0.31980   0.082656\n",
      "12  0.997599  -5.859926  20.01000   4.693341\n",
      "13  0.982794  -6.130536   0.03400   0.021071\n",
      "14  0.973929  -6.298161   0.54005   0.257713\n"
     ]
    }
   ],
   "source": [
    "# setting a name value to group 1 members\n",
    "gr1_object.set_value(net, \"member of group '%s'\" % net.group.name.at[0], \"name\")\n",
    "# visualize the effect\n",
    "print(\"The load names:\\n\")\n",
    "print(net.load.name)\n",
    "\n",
    "# set all elements of group 1 out of service\n",
    "gr1_object.set_out_of_service(net)\n",
    "pp.runpp(net)\n",
    "print(\"\\nThe bus results with Feeder 2 out of service:\\n\")\n",
    "print(net.res_bus)  # the Feeder 2 buses should now have nan values\n",
    "\n",
    "# and back in service...\n",
    "gr1_object.set_in_service(net)\n",
    "pp.runpp(net)\n",
    "print(\"\\nThe bus results with Feeder 2 back in service:\\n\")\n",
    "print(net.res_bus)"
   ]
  },
  {
   "cell_type": "markdown",
   "metadata": {},
   "source": [
    "## Sum Group Consumption Power\n",
    "Groups can sum its complete power consumption including losses. Since the virtual power plant group predominantly consists of generation units, its active power value is negative."
   ]
  },
  {
   "cell_type": "code",
   "execution_count": 12,
   "metadata": {},
   "outputs": [
    {
     "name": "stdout",
     "output_type": "stream",
     "text": [
      "Group 'Feeder2' consumes 20.66 MW and 7.45 Mvar.\n",
      "Group 'virtual power plant' consumes -0.85 MW and 0.27 Mvar.\n"
     ]
    }
   ],
   "source": [
    "for idx in net.group.index:\n",
    "    print(\"Group '%s' consumes %.2f MW and %.2f Mvar.\" % (\n",
    "        net.group.name.at[idx],\n",
    "        net.group.object.at[idx].res_p_mw(net),\n",
    "        net.group.object.at[idx].res_q_mvar(net)))\n",
    "\n",
    "# a validation of Feeder 2 group values is easy since there is only one trafo and one line\n",
    "# which supply the feeder:\n",
    "p_val = net.res_line.p_to_mw.at[14] + net.res_trafo.p_hv_mw.at[1]\n",
    "assert np.isclose(gr1_object.res_p_mw(net), p_val)"
   ]
  },
  {
   "cell_type": "markdown",
   "metadata": {},
   "source": [
    "## Append and Drop Group Members\n",
    "Once defined, a group is capable to change its members:"
   ]
  },
  {
   "cell_type": "code",
   "execution_count": 13,
   "metadata": {},
   "outputs": [],
   "source": [
    "p_before = gr2_object.res_p_mw(net)\n",
    "\n",
    "# append the virtual power plant\n",
    "gr2_object.append_to_group({\"storage\": net.storage.name.at[0]})\n",
    "# drop an sgen from the virtual power plant\n",
    "gr2_object.drop_from_group({\"load\": net.load.name.at[5]})\n",
    "\n",
    "# validate via compare the active power consumption\n",
    "assert np.isclose(p_before + net.res_storage.p_mw.at[0] - net.res_load.p_mw.at[5], gr2_object.res_p_mw(net))"
   ]
  },
  {
   "cell_type": "code",
   "execution_count": null,
   "metadata": {},
   "outputs": [],
   "source": []
  }
 ],
 "metadata": {
  "anaconda-cloud": {},
  "kernelspec": {
   "display_name": "Python 3",
   "language": "python",
   "name": "python3"
  },
  "language_info": {
   "codemirror_mode": {
    "name": "ipython",
    "version": 3
   },
   "file_extension": ".py",
   "mimetype": "text/x-python",
   "name": "python",
   "nbconvert_exporter": "python",
   "pygments_lexer": "ipython3",
   "version": "3.8.5"
  }
 },
 "nbformat": 4,
 "nbformat_minor": 2
}
